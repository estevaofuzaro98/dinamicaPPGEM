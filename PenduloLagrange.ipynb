{
 "cells": [
  {
   "attachments": {},
   "cell_type": "markdown",
   "metadata": {},
   "source": [
    "<center>Universidade Estadual Paulista - UNESP</center>\n",
    "<center>Faculdade de Engenharia de Ilha Solteira - FEIS</center>\n",
    "<center>Departamento de Engenharia Mecânica - DEM</center>\n",
    "<center>Programa de Pós-Graduação em Engenharia Mecânica - PPGEM</center>\n",
    "<br>\n",
    "<center><b>Disciplina: Dinâmica dos Sistemas Mecânicos</b></center>\n",
    "<center><b>Pêndulo Simples parametrizado por x e y via Multiplicadores de Lagrange</b></center>\n",
    "<br>\n",
    "<center><b>Docente:</b> Samuel da Silva</center>\n",
    "<center><b>Discentes:</b> Estevão Fuzaro de Almeida</center>\n",
    "<center>Henrique Cordeiro Novais</center>"
   ]
  },
  {
   "attachments": {},
   "cell_type": "markdown",
   "metadata": {},
   "source": [
    "---"
   ]
  },
  {
   "cell_type": "code",
   "execution_count": 1,
   "metadata": {},
   "outputs": [],
   "source": [
    "# Bibliotecas\n",
    "import numpy as np\n",
    "import matplotlib.pyplot as plt\n",
    "import sympy as smp\n",
    "from scipy.integrate import odeint\n",
    "import matplotlib.font_manager as font_manager\n",
    "from matplotlib import rc\n",
    "\n",
    "#Set the font dictionaries (for plot title and axis titles)\n",
    "rc('font', **{'family': 'serif', 'serif': ['Computer Modern'],'size': '18'})\n",
    "rc('text', usetex=True)"
   ]
  },
  {
   "attachments": {},
   "cell_type": "markdown",
   "metadata": {},
   "source": [
    "### **1. Parametrizando em $x$ e $y$ com multiplicador de lagrange $\\lambda$.**"
   ]
  },
  {
   "cell_type": "markdown",
   "metadata": {},
   "source": [
    "Vamos considerar um pêndulo simples com comprimento $L$ e massa $m$ sofrendo a ação de um campo gravitacional $g=9,8 \\textrm~{m/s}^2$."
   ]
  },
  {
   "cell_type": "markdown",
   "metadata": {},
   "source": [
    "<center><img src=\"imgs/pendulo.png\" alt=\"pendulo\" width=\"290\" height=\"341\"/></center>"
   ]
  },
  {
   "cell_type": "markdown",
   "metadata": {},
   "source": [
    "\n",
    "A equação de vínculo parametrizada em coordenadas $x$ e $y$ é uma função $f(x,y)$ dada por:\n",
    "$$ f(x,y) = x^2 + y^2 - L^2 = 0 $$\n"
   ]
  },
  {
   "cell_type": "markdown",
   "metadata": {},
   "source": [
    "A energia cinética é dada é uma função de $\\dot{x}$ e $\\dot{y}$ do tipo:\n",
    "$$ T(\\dot{x},\\dot{y}) = \\frac{1}{2}m \\dot x ^2+ \\frac{1}{2}m \\dot y^2 $$\n"
   ]
  },
  {
   "cell_type": "markdown",
   "metadata": {},
   "source": [
    "E a energia potencial, com referencial no ponto fixo, é uma função apenas de $y$ do tipo:\n",
    "$$ V(y) = -mgy $$\n"
   ]
  },
  {
   "cell_type": "markdown",
   "metadata": {},
   "source": [
    "Assim, a Lagrangiana $\\mathcal{L}$ é dada por:\n",
    "\n",
    "$$ \\mathcal{L}(y,\\dot{x},\\dot{y}) = T(\\dot{x},\\dot{y}) - V(y) $$\n",
    "$$ \\mathcal{L}(y,\\dot{x},\\dot{y}) = \\frac{1}{2}m (\\dot x^2 + \\dot y^2) + mgy $$\n"
   ]
  },
  {
   "cell_type": "code",
   "execution_count": 2,
   "metadata": {},
   "outputs": [],
   "source": [
    "# Definindo as variáveis do problema\n",
    "t, l, m, g, h = smp.symbols('t, l, m, g, h', real=True) # Tempo \"t\", Comprimento \"l\", Massa \"m\", Gravidade \"g\", Altura \"h\"\n",
    "x, y = smp.symbols('x, y', cls=smp.Function) # x e y -> Coordenadas não-generalizadas\n",
    "lbda = smp.symbols('\\lambda',real=True)"
   ]
  },
  {
   "cell_type": "code",
   "execution_count": 3,
   "metadata": {},
   "outputs": [],
   "source": [
    "# Criando os deslocamentos\n",
    "x = x(t)\n",
    "y = y(t)\n",
    "\n",
    "# Criando as velocidades\n",
    "xdot = smp.diff(x,t)\n",
    "ydot = smp.diff(y,t)\n",
    "\n",
    "# Criando as acelerações\n",
    "xddot = smp.diff(xdot,t)\n",
    "yddot = smp.diff(ydot,t)"
   ]
  },
  {
   "cell_type": "code",
   "execution_count": 4,
   "metadata": {},
   "outputs": [
    {
     "data": {
      "text/latex": [
       "$\\displaystyle - l^{2} + x^{2}{\\left(t \\right)} + y^{2}{\\left(t \\right)}$"
      ],
      "text/plain": [
       "-l**2 + x(t)**2 + y(t)**2"
      ]
     },
     "execution_count": 4,
     "metadata": {},
     "output_type": "execute_result"
    }
   ],
   "source": [
    "# Equação do vínculo holônomo\n",
    "cnstr = x**2 + y**2 - l**2\n",
    "cnstr"
   ]
  },
  {
   "cell_type": "code",
   "execution_count": 5,
   "metadata": {},
   "outputs": [
    {
     "data": {
      "text/latex": [
       "$\\displaystyle g m y{\\left(t \\right)} + 0.5 m \\left(\\left(\\frac{d}{d t} x{\\left(t \\right)}\\right)^{2} + \\left(\\frac{d}{d t} y{\\left(t \\right)}\\right)^{2}\\right)$"
      ],
      "text/plain": [
       "g*m*y(t) + 0.5*m*(Derivative(x(t), t)**2 + Derivative(y(t), t)**2)"
      ]
     },
     "execution_count": 5,
     "metadata": {},
     "output_type": "execute_result"
    }
   ],
   "source": [
    "# Definindo a energia cinética\n",
    "T = (1/2)*m*(xdot**2 + ydot**2)\n",
    "# Definindo a energia potencial\n",
    "V = -m*g*y\n",
    "# Definindo a Lagrangiana\n",
    "L = T - V\n",
    "L"
   ]
  },
  {
   "attachments": {},
   "cell_type": "markdown",
   "metadata": {},
   "source": [
    "Define-se então as Equações de Euler-Lagrange com multiplicador de Lagrange:\n",
    "\n",
    "* $k = 2$ coordenadas ($x$,$y$)\n",
    "* $p = 1$ vínculo\n",
    "\n",
    "$$ \\mathcal L(y,\\dot{x},\\dot{y}) = \\frac{1}{2}m (\\dot x^2 + \\dot y^2) + mgy $$\n",
    "\n",
    "* Para $q_1 = x~(k=1)$\n",
    "\n",
    "$$ a_{11} = \\frac{\\partial f}{\\partial x} = 2x $$\n",
    "\n",
    "$$\\frac{d}{dt}\\left(\\frac{\\partial \\mathcal{L}}{\\partial \\dot{x}}\\right) - \\frac{\\partial \\mathcal{L}}{\\partial x} + \\frac{\\partial \\mathcal{F}}{\\partial \\dot{x}} = 0$$\n",
    "\n",
    "$$ m\\ddot x =2 \\lambda x $$\n",
    "\n",
    "* Para $ q_2 = y~(k=2)$\n",
    "\n",
    "$$ a_{12} = \\frac{\\partial f}{\\partial y} = 2y $$\n",
    "\n",
    "$$\\frac{d}{dt}\\left(\\frac{\\partial \\mathcal{L}}{\\partial \\dot{y}}\\right) - \\frac{\\partial \\mathcal{L}}{\\partial y} + \\frac{\\partial \\mathcal{F}}{\\partial \\dot{y}} = 0$$\n",
    "\n",
    "$$ m\\ddot y = 2\\lambda y + mg $$"
   ]
  },
  {
   "cell_type": "code",
   "execution_count": 6,
   "metadata": {},
   "outputs": [],
   "source": [
    "a11 = smp.diff(cnstr,x)\n",
    "a12 = smp.diff(cnstr,y)"
   ]
  },
  {
   "cell_type": "code",
   "execution_count": 7,
   "metadata": {},
   "outputs": [
    {
     "data": {
      "text/latex": [
       "$\\displaystyle - 2 \\lambda x{\\left(t \\right)} + 1.0 m \\frac{d^{2}}{d t^{2}} x{\\left(t \\right)}$"
      ],
      "text/plain": [
       "-2*\\lambda*x(t) + 1.0*m*Derivative(x(t), (t, 2))"
      ]
     },
     "execution_count": 7,
     "metadata": {},
     "output_type": "execute_result"
    }
   ],
   "source": [
    "# k = 1 -> q1 = x\n",
    "eq1 = (smp.diff(smp.diff(L,xdot),t) - smp.diff(L,x)) - lbda*a11\n",
    "eq1"
   ]
  },
  {
   "cell_type": "code",
   "execution_count": 8,
   "metadata": {},
   "outputs": [
    {
     "data": {
      "text/latex": [
       "$\\displaystyle - 2 \\lambda y{\\left(t \\right)} - g m + 1.0 m \\frac{d^{2}}{d t^{2}} y{\\left(t \\right)}$"
      ],
      "text/plain": [
       "-2*\\lambda*y(t) - g*m + 1.0*m*Derivative(y(t), (t, 2))"
      ]
     },
     "execution_count": 8,
     "metadata": {},
     "output_type": "execute_result"
    }
   ],
   "source": [
    "# k = 2 -> q2 = y\n",
    "eq2 = (smp.diff(smp.diff(L,ydot),t) - smp.diff(L,y)) - lbda*a12\n",
    "eq2"
   ]
  },
  {
   "attachments": {},
   "cell_type": "markdown",
   "metadata": {},
   "source": [
    "Obtém-se então 3 equações com 3 incógnitas $(x,y,\\lambda)$:\n",
    "\\begin{align*}\n",
    "m \\ddot{x} - 2 \\lambda x = 0 \\\\\n",
    "m \\ddot{y} - m g - 2 \\lambda y = 0 \\\\\n",
    "x^2 + y^2 - L^2 = 0 \\\\\n",
    "\\end{align*}"
   ]
  },
  {
   "cell_type": "markdown",
   "metadata": {},
   "source": [
    "Isola-se $\\ddot{x}$ na primeira equação:"
   ]
  },
  {
   "cell_type": "code",
   "execution_count": 9,
   "metadata": {},
   "outputs": [
    {
     "data": {
      "text/latex": [
       "$\\displaystyle \\frac{2.0 \\lambda x{\\left(t \\right)}}{m}$"
      ],
      "text/plain": [
       "2.0*\\lambda*x(t)/m"
      ]
     },
     "execution_count": 9,
     "metadata": {},
     "output_type": "execute_result"
    }
   ],
   "source": [
    "xddot_ = smp.solve(eq1,xddot)[0]\n",
    "xddot_"
   ]
  },
  {
   "cell_type": "markdown",
   "metadata": {},
   "source": [
    "E na sequência isolamos $\\ddot{y}$ na segunda equação:"
   ]
  },
  {
   "cell_type": "code",
   "execution_count": 10,
   "metadata": {},
   "outputs": [
    {
     "data": {
      "text/latex": [
       "$\\displaystyle \\frac{2.0 \\lambda y{\\left(t \\right)}}{m} + g$"
      ],
      "text/plain": [
       "2.0*\\lambda*y(t)/m + g"
      ]
     },
     "execution_count": 10,
     "metadata": {},
     "output_type": "execute_result"
    }
   ],
   "source": [
    "yddot_ = smp.solve(eq2,yddot)[0]\n",
    "yddot_"
   ]
  },
  {
   "cell_type": "markdown",
   "metadata": {},
   "source": [
    "Próximo passo é obter as derivadas primeira e segunda do vínculo em função do tempo $\\frac{d}{dt}f(x,y)$ e $\\frac{d^2}{dt^2}f(x,y)$:"
   ]
  },
  {
   "cell_type": "code",
   "execution_count": 11,
   "metadata": {},
   "outputs": [
    {
     "data": {
      "text/latex": [
       "$\\displaystyle 2 x{\\left(t \\right)} \\frac{d}{d t} x{\\left(t \\right)} + 2 y{\\left(t \\right)} \\frac{d}{d t} y{\\left(t \\right)}$"
      ],
      "text/plain": [
       "2*x(t)*Derivative(x(t), t) + 2*y(t)*Derivative(y(t), t)"
      ]
     },
     "execution_count": 11,
     "metadata": {},
     "output_type": "execute_result"
    }
   ],
   "source": [
    "cnstr_dot = smp.diff(cnstr,t)\n",
    "cnstr_dot"
   ]
  },
  {
   "cell_type": "code",
   "execution_count": 12,
   "metadata": {},
   "outputs": [
    {
     "data": {
      "text/latex": [
       "$\\displaystyle 2 x{\\left(t \\right)} \\frac{d^{2}}{d t^{2}} x{\\left(t \\right)} + 2 y{\\left(t \\right)} \\frac{d^{2}}{d t^{2}} y{\\left(t \\right)} + 2 \\left(\\frac{d}{d t} x{\\left(t \\right)}\\right)^{2} + 2 \\left(\\frac{d}{d t} y{\\left(t \\right)}\\right)^{2}$"
      ],
      "text/plain": [
       "2*x(t)*Derivative(x(t), (t, 2)) + 2*y(t)*Derivative(y(t), (t, 2)) + 2*Derivative(x(t), t)**2 + 2*Derivative(y(t), t)**2"
      ]
     },
     "execution_count": 12,
     "metadata": {},
     "output_type": "execute_result"
    }
   ],
   "source": [
    "cnstr_ddot = smp.diff(cnstr_dot,t)\n",
    "cnstr_ddot"
   ]
  },
  {
   "cell_type": "markdown",
   "metadata": {},
   "source": [
    "Substituindo $\\ddot{x}$ e $\\ddot{y}$ na equação acima, conseguimos isolar o multiplicador de Lagrange $\\lambda$:"
   ]
  },
  {
   "cell_type": "code",
   "execution_count": 13,
   "metadata": {},
   "outputs": [
    {
     "data": {
      "text/latex": [
       "$\\displaystyle \\frac{0.5 m \\left(- g y{\\left(t \\right)} - \\left(\\frac{d}{d t} x{\\left(t \\right)}\\right)^{2} - \\left(\\frac{d}{d t} y{\\left(t \\right)}\\right)^{2}\\right)}{x^{2}{\\left(t \\right)} + y^{2}{\\left(t \\right)}}$"
      ],
      "text/plain": [
       "0.5*m*(-g*y(t) - Derivative(x(t), t)**2 - Derivative(y(t), t)**2)/(x(t)**2 + y(t)**2)"
      ]
     },
     "execution_count": 13,
     "metadata": {},
     "output_type": "execute_result"
    }
   ],
   "source": [
    "eq = 2*x*xddot_ + 2*y*yddot_ + 2*xdot**2 + 2*ydot**2\n",
    "lbda_ = smp.solve(eq,lbda)[0]\n",
    "lbda_"
   ]
  },
  {
   "attachments": {},
   "cell_type": "markdown",
   "metadata": {},
   "source": [
    "Reescrevendo:\n",
    "$$\\lambda = \\frac{-m(gy + \\dot{x}^2 + \\dot{y}^2)}{2(x^2+y^2)} = \\frac{-m(gy + \\dot{x}^2 + \\dot{y}^2)}{2L^2}$$\n",
    "\n",
    "Com este $\\lambda$ podemos substituí-lo nas equações $\\ddot{x} = \\frac{2 \\lambda x}{m}$ e $\\ddot{y} = \\frac{2 \\lambda y}{m} + g$ e obter estas variáveis em função apenas de $x,y,\\dot{x},\\dot{y}$:\n",
    "\n",
    "$$ \\ddot x = -\\frac{x}{L^2}(\\dot x^2 + \\dot y^2 + gy) $$\n",
    "\n",
    "$$ \\ddot y = \\frac{gx^2 - y(\\dot{x}^2 + \\dot{y}^2)}{L^2}$$"
   ]
  },
  {
   "cell_type": "code",
   "execution_count": 14,
   "metadata": {},
   "outputs": [
    {
     "data": {
      "text/latex": [
       "$\\displaystyle \\frac{\\left(- g y{\\left(t \\right)} - \\left(\\frac{d}{d t} x{\\left(t \\right)}\\right)^{2} - \\left(\\frac{d}{d t} y{\\left(t \\right)}\\right)^{2}\\right) x{\\left(t \\right)}}{x^{2}{\\left(t \\right)} + y^{2}{\\left(t \\right)}}$"
      ],
      "text/plain": [
       "(-g*y(t) - Derivative(x(t), t)**2 - Derivative(y(t), t)**2)*x(t)/(x(t)**2 + y(t)**2)"
      ]
     },
     "execution_count": 14,
     "metadata": {},
     "output_type": "execute_result"
    }
   ],
   "source": [
    "# Substituindo este lambda na eq1 e eq2\n",
    "xddot__ = smp.solve(eq1.subs(lbda,lbda_),xddot)[0]\n",
    "xddot__"
   ]
  },
  {
   "cell_type": "code",
   "execution_count": 15,
   "metadata": {},
   "outputs": [
    {
     "data": {
      "text/latex": [
       "$\\displaystyle \\frac{g x^{2}{\\left(t \\right)} - y{\\left(t \\right)} \\left(\\frac{d}{d t} x{\\left(t \\right)}\\right)^{2} - y{\\left(t \\right)} \\left(\\frac{d}{d t} y{\\left(t \\right)}\\right)^{2}}{x^{2}{\\left(t \\right)} + y^{2}{\\left(t \\right)}}$"
      ],
      "text/plain": [
       "(g*x(t)**2 - y(t)*Derivative(x(t), t)**2 - y(t)*Derivative(y(t), t)**2)/(x(t)**2 + y(t)**2)"
      ]
     },
     "execution_count": 15,
     "metadata": {},
     "output_type": "execute_result"
    }
   ],
   "source": [
    "yddot__ = smp.solve(eq2.subs(lbda,lbda_),yddot)[0]\n",
    "yddot__"
   ]
  },
  {
   "cell_type": "markdown",
   "metadata": {},
   "source": [
    "Assim podemos construir uma função em espaço de estados para resolver via Runge-Kutta com condições iniciais similares a $\\theta = 60^{\\circ}$:"
   ]
  },
  {
   "cell_type": "code",
   "execution_count": 16,
   "metadata": {},
   "outputs": [],
   "source": [
    "# Parâmetros do sistema\n",
    "g = 9.81  # aceleração da gravidade\n",
    "l = 1.0   # comprimento do pêndulo\n",
    "\n",
    "# Intervalo de tempo para integração\n",
    "t_start = 0.0\n",
    "t_end = (g/l)**(1/2) # plotando um período\n",
    "t_step = 0.001\n",
    "t_span = np.arange(t_start, t_end, t_step)\n",
    "\n",
    "## LAGRANGE --------------------------------------------------------\n",
    "def pendulum_lag(z, t):\n",
    "    z1 = z[0]\n",
    "    z2 = z[1]\n",
    "    z3 = z[2]\n",
    "    z4 = z[3]\n",
    "    dz1_dt = z2\n",
    "    dz2_dt = - z1 * (g * z3 + z2**2 + z4**2) / (z1**2 + z3**2)\n",
    "    dz3_dt = z4\n",
    "    dz4_dt = (g * z1**2 - z3 * z2**2 - z3 * z4**2) / (z1**2 + z3**2)\n",
    "    return [dz1_dt, dz2_dt, dz3_dt, dz4_dt]\n",
    "\n",
    "# Condições iniciais\n",
    "z0 = [l*np.sin(np.pi/3), 0.0, l*np.cos(np.pi/3), 0.0]  # z1(0), z2(0), z3(0), z4(0)\n",
    "\n",
    "# Resolvendo o sistema de equações diferenciais\n",
    "solution = odeint(pendulum_lag, z0, t_span)\n",
    "\n",
    "# Obtendo as soluções para z1, z2, z3 e z4\n",
    "x_sol = solution[:, 0]\n",
    "y_sol = solution[:, 2]\n",
    "\n",
    "## TRADICIONAL --------------------------------------------------------\n",
    "def pendulum_an(z, t):\n",
    "    z1 = z[0]\n",
    "    z2 = z[1]\n",
    "    dz1_dt = z2\n",
    "    dz2_dt = -g/l*np.sin(z1)\n",
    "    return [dz1_dt, dz2_dt]\n",
    "\n",
    "# Condições iniciais\n",
    "z0 = [np.pi/3, 0.0]  # z1(0), z2(0)\n",
    "\n",
    "# Resolvendo o sistema de equações diferenciais\n",
    "solution_an = odeint(pendulum_an, z0, t_span)\n",
    "\n",
    "# Obtendo as soluções para z1, z2\n",
    "x_sol_an = l*np.sin(solution_an[:, 0])\n",
    "y_sol_an = l*np.cos(solution_an[:, 0])"
   ]
  },
  {
   "cell_type": "markdown",
   "metadata": {},
   "source": [
    "E assim obtemos a solução do pêndulo simples parametrizado com $x$ e $y$ via Multiplicadores de Lagrange:"
   ]
  },
  {
   "cell_type": "code",
   "execution_count": 17,
   "metadata": {},
   "outputs": [
    {
     "data": {
      "image/png": "[encoded data removed]",
      "text/plain": [
       "<Figure size 1000x800 with 1 Axes>"
      ]
     },
     "metadata": {},
     "output_type": "display_data"
    }
   ],
   "source": [
    "# Plotando as soluções\n",
    "plt.figure(figsize=(10, 8))\n",
    "# plt.plot(solution.t, x_sol, label='x')\n",
    "# plt.plot(solution.t, y_sol, label='y')\n",
    "plt.plot(x_sol, -y_sol, linestyle='-', color='yellow', linewidth=4, label=r'$\\mathcal{L}$')\n",
    "plt.plot(x_sol_an, -y_sol_an, linestyle=':', color='black', linewidth=1.5, label=r'$\\theta$')\n",
    "plt.xlabel('$x$')\n",
    "plt.ylabel('$y$')\n",
    "plt.title('Pêndulo - Multiplicadores de Lagrange')\n",
    "plt.legend()\n",
    "plt.grid(True)\n",
    "plt.xlim(-1.0,1.0)\n",
    "plt.ylim(-1.0,0.0)\n",
    "plt.axis()\n",
    "ax = plt.gca()\n",
    "ax.set_aspect('equal', adjustable='box')\n",
    "plt.show()"
   ]
  }
 ],
 "metadata": {
  "kernelspec": {
   "display_name": "Python 3 (ipykernel)",
   "language": "python",
   "name": "python3"
  },
  "language_info": {
   "codemirror_mode": {
    "name": "ipython",
    "version": 3
   },
   "file_extension": ".py",
   "mimetype": "text/x-python",
   "name": "python",
   "nbconvert_exporter": "python",
   "pygments_lexer": "ipython3",
   "version": "3.10.6"
  }
 },
 "nbformat": 4,
 "nbformat_minor": 4
}
