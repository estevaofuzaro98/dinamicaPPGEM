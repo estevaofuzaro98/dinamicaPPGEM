{
 "cells": [
  {
   "attachments": {},
   "cell_type": "markdown",
   "metadata": {},
   "source": [
    "<center>Universidade Estadual Paulista - UNESP</center>\n",
    "<center>Faculdade de Engenharia de Ilha Solteira - FEIS</center>\n",
    "<center>Departamento de Engenharia Mecânica - DEM</center>\n",
    "<center>Programa de Pós-Graduação em Engenharia Mecânica - PPGEM</center>\n",
    "<br>\n",
    "<center><b>Disciplina: Dinâmica dos Sistemas Mecânicos</b></center>\n",
    "<center><b>Pêndulo Simples parametrizado por x e y via Equações de Voronec</b></center>\n",
    "<br>\n",
    "<center><b>Docente:</b> Samuel da Silva</center>\n",
    "<center><b>Discentes:</b> Estevão Fuzaro de Almeida</center>\n",
    "<center>Henrique Cordeiro Novais</center>"
   ]
  },
  {
   "attachments": {},
   "cell_type": "markdown",
   "metadata": {},
   "source": [
    "---"
   ]
  },
  {
   "cell_type": "code",
   "execution_count": 1,
   "metadata": {},
   "outputs": [],
   "source": [
    "# Bibliotecas\n",
    "import numpy as np\n",
    "import matplotlib.pyplot as plt\n",
    "import sympy as smp\n",
    "from scipy.integrate import odeint\n",
    "import matplotlib.font_manager as font_manager\n",
    "from matplotlib import rc\n",
    "from sympy import symbols, latex\n",
    "\n",
    "# Setar fontes em LaTeX para os plots\n",
    "rc('font', **{'family': 'serif', 'serif': ['Computer Modern'],'size': '18'})\n",
    "rc('text', usetex=True)"
   ]
  },
  {
   "attachments": {},
   "cell_type": "markdown",
   "metadata": {},
   "source": [
    "### **1. Parametrizando por $x$ e $y$ via equações de Voronec.**"
   ]
  },
  {
   "cell_type": "markdown",
   "metadata": {},
   "source": [
    "Vamos considerar um pêndulo simples com comprimento $L$ e massa $m$ sofrendo a ação de um campo gravitacional $g=9,8 \\textrm~{m/s}^2$."
   ]
  },
  {
   "cell_type": "markdown",
   "metadata": {},
   "source": [
    "<center><img src=\"imgs/pendulo.png\" alt=\"pendulo\" width=\"290\" height=\"341\"/></center>"
   ]
  },
  {
   "cell_type": "markdown",
   "metadata": {},
   "source": [
    "* A energia **cinética** é dada por:\n",
    "$$ T(\\dot{x},\\dot{y}) = \\frac{1}{2}m \\dot x ^2+ \\frac{1}{2}m \\dot y^2 $$\n",
    "\n",
    "* Já a energia **potencial** é dada por:\n",
    "$$ V(y) = -mgy $$\n",
    "\n",
    "* Assim, a **Lagrangiana** é:\n",
    "$$\n",
    "\\mathcal{L}=\\frac{1}{2}m\\left(\\dot{x}^{2}+\\dot{y}^{2}\\right) + mgy\n",
    "$$\n",
    "\n",
    "* A vinculação é do tipo **holônoma**, tal que:\n",
    "\n",
    "$$ f(x,y) = x^2 + y^2 - L^2 = 0 $$\n",
    "\n",
    "\n",
    "* Definindo as **variáveis de configuração** do pêndulo:\n",
    "\n",
    "$$q_1 = x \\\\\n",
    "q_2 = y$$\n",
    "\n",
    "* Definindo alguns **parâmetros** para a obtenção dos coeficiente do problema:\n",
    "\n",
    "$$\\begin{align}n &= 2~\\text{(fixo)} \\rightarrow \\text{var. de configuração} \\\\\n",
    "m &= 1~(\\text{fixo}) \\rightarrow \\text{velocidades independentes}\\\\\n",
    "k &= n - m = 1~(\\text{fixo})\\\\\n",
    "l &= (1~\\text{até}~k) = (1,1)\\\\\n",
    "j &= (1~\\text{até}~m)= (1,1)\\\\\n",
    "\\nu &= (1~\\text{até}~k) = (1,1)\\end{align}$$\n",
    "\n",
    "* Obtendo-se os termos de vínculo $a_{lj}$:\n",
    "\n",
    "$$\\dot{q}_{m+l} - \\sum_{j=1}^{m} a_{lj} \\dot{q}_j = 0,~l=1,\\cdots,k$$\n",
    "\n",
    "$$\\dot{q}_{2} - a_{11}\\dot{q}_1 = 0 \\Rightarrow \\dot{y} - a_{11}\\dot{x} = 0 ~~\\therefore~{\\boxed{a_{11} = \\frac{\\dot{y}}{\\dot{x}} }}$$\n",
    "\n",
    "* Obtendo-se a **Lagrangiana reduzida**:\n",
    "\n",
    "A partir da equação de vínculo podemos obter as respectivas diferenciações:\n",
    "$$ f(x,y) = x^2 + y^2 - L^2 = 0 \\\\\n",
    "\\frac{d}{dt}f(x,y) = \\frac{d}{dt}(x^2 + y^2 - L^2) = 0 \\\\\n",
    "\\frac{d}{dt}f(x,y) = 2x\\dot{x} + 2y\\dot{y} = 0 \\Rightarrow \\dot{y} = -\\left(\\frac{x}{y}\\right)\\dot{x}$$\n",
    "\n",
    "Por fim, após isolar $\\dot{y}$, substituímos na Lagrangiana original obtendo a Lagrangiana reduzida:\n",
    "$$ \\bar{\\mathcal L} = \\frac{1}{2}m\\left\\{\\dot{x}^{2}+\\left[-\\left(\\frac{x}{y}\\right)\\dot{x}\\right]^{2}\\right\\} + mgy$$\n",
    "\n",
    "* Assim, podemos finalmente obter as **Equações de Voronec**, conforme segue:\n",
    "$$\n",
    "\\frac{d}{d t}\\left(\\frac{\\partial \\bar{\\mathcal L}}{\\partial \\dot{q}_{i}}\\right)-\\frac{\\partial \\bar{\\mathcal L}}{\\partial q_{i}}=\\sum_{\\nu=1}^{k} \\frac{\\partial \\bar{\\mathcal L}}{\\partial q_{m+\\nu}} a_{\\nu i}+ \\cancel{\\sum_{\\nu=1}^{k} \\sum_{j=1}^{m} \\frac{\\partial \\mathcal{L}}{\\partial \\dot{q}_{m+\\nu}} b_{i j}^{\\nu} \\dot{q}_{j}}^{~~0\\text{ (holônomo)}}, i=1, \\ldots, m\n",
    "$$\n",
    "\n",
    "$$\n",
    "\\cancel{b_{ij}^{\\nu}=\\frac{\\partial a_{\\nu i}}{\\partial q_{j}}-\\frac{\\partial a_{\\nu j}}{\\partial q_{i}}+\\sum_{\\mu=1}^{k}\\left(\\frac{\\partial a_{\\nu i}}{\\partial q_{m+\\mu}} a_{\\mu j}-\\frac{\\partial a_{\\nu j}}{\\partial q_{m+\\mu}} a_{\\mu i}\\right)}^{~~0\\text{ (holônomo)}}\n",
    "$$\n",
    "\n",
    "$$\n",
    "\\frac{d}{d t}\\left(\\frac{\\partial \\bar{\\mathcal L}}{\\partial \\dot{q}_{1}}\\right)-\\frac{\\partial \\bar{\\mathcal L}}{\\partial q_{1}}=\\frac{\\partial \\bar{\\mathcal L}}{\\partial q_{2}} a_{11}\n",
    "$$\n",
    "\n",
    "$$\n",
    "\\boxed{\\frac{d}{d t}\\left(\\frac{\\partial \\bar{\\mathcal L}}{\\partial \\dot{x}}\\right)-\\frac{\\partial \\bar{\\mathcal L}}{\\partial x}=\\frac{\\partial \\bar{\\mathcal L}}{\\partial y} a_{11}}\n",
    "$$"
   ]
  },
  {
   "cell_type": "code",
   "execution_count": 2,
   "metadata": {},
   "outputs": [],
   "source": [
    "# Definindo as variáveis do problema\n",
    "t, l, m, g = smp.symbols('t, l, m, g', real=True) # Tempo \"t\", Comprimento \"l\", Massa \"m\", Gravidade \"g\"\n",
    "x, y = smp.symbols('x, y', cls=smp.Function) # x e y -> Coordenadas não-generalizadas"
   ]
  },
  {
   "cell_type": "code",
   "execution_count": 3,
   "metadata": {},
   "outputs": [],
   "source": [
    "# Deslocamentos\n",
    "x = x(t)\n",
    "y = y(t)\n",
    "\n",
    "# Velocidades\n",
    "xdot = smp.diff(x,t)\n",
    "ydot = smp.diff(y,t)\n",
    "\n",
    "# Acelerações\n",
    "xddot = smp.diff(xdot,t)\n",
    "yddot = smp.diff(ydot,t)"
   ]
  },
  {
   "cell_type": "code",
   "execution_count": 4,
   "metadata": {},
   "outputs": [],
   "source": [
    "# Vínculo holônomo\n",
    "f1 = x**2 + y**2 - l**2\n",
    "f1_dot = smp.diff(f1,t)\n",
    "f1_ddot = smp.diff(f1_dot,t)"
   ]
  },
  {
   "cell_type": "code",
   "execution_count": 5,
   "metadata": {},
   "outputs": [
    {
     "data": {
      "text/latex": [
       "$\\displaystyle - \\frac{x{\\left(t \\right)} \\frac{d}{d t} x{\\left(t \\right)}}{y{\\left(t \\right)}}$"
      ],
      "text/plain": [
       "-x(t)*Derivative(x(t), t)/y(t)"
      ]
     },
     "execution_count": 5,
     "metadata": {},
     "output_type": "execute_result"
    }
   ],
   "source": [
    "ydot_ = smp.solve(f1_dot,ydot)[0]\n",
    "ydot_"
   ]
  },
  {
   "cell_type": "code",
   "execution_count": 6,
   "metadata": {},
   "outputs": [
    {
     "data": {
      "text/latex": [
       "$\\displaystyle g m y{\\left(t \\right)} + 0.5 m \\left(\\frac{x^{2}{\\left(t \\right)} \\left(\\frac{d}{d t} x{\\left(t \\right)}\\right)^{2}}{y^{2}{\\left(t \\right)}} + \\left(\\frac{d}{d t} x{\\left(t \\right)}\\right)^{2}\\right)$"
      ],
      "text/plain": [
       "g*m*y(t) + 0.5*m*(x(t)**2*Derivative(x(t), t)**2/y(t)**2 + Derivative(x(t), t)**2)"
      ]
     },
     "execution_count": 6,
     "metadata": {},
     "output_type": "execute_result"
    }
   ],
   "source": [
    "# Energia cinética\n",
    "T = (1/2)*m*(xdot**2 + ydot_**2)\n",
    "# Energia potencial\n",
    "V = -m*g*y\n",
    "# Lagrangiana reduzida\n",
    "L_bar = T - V\n",
    "L_bar"
   ]
  },
  {
   "cell_type": "code",
   "execution_count": 7,
   "metadata": {},
   "outputs": [
    {
     "data": {
      "text/latex": [
       "$\\displaystyle - \\frac{x{\\left(t \\right)}}{y{\\left(t \\right)}}$"
      ],
      "text/plain": [
       "-x(t)/y(t)"
      ]
     },
     "execution_count": 7,
     "metadata": {},
     "output_type": "execute_result"
    }
   ],
   "source": [
    "# Termo de vínculo alj\n",
    "a11 = ydot_/xdot\n",
    "a11"
   ]
  },
  {
   "cell_type": "code",
   "execution_count": 8,
   "metadata": {},
   "outputs": [
    {
     "data": {
      "text/latex": [
       "$\\displaystyle \\frac{1.0 m \\left(1.0 g x{\\left(t \\right)} y^{3}{\\left(t \\right)} - 1.0 x^{3}{\\left(t \\right)} \\left(\\frac{d}{d t} x{\\left(t \\right)}\\right)^{2} + 1.0 x^{2}{\\left(t \\right)} y^{2}{\\left(t \\right)} \\frac{d^{2}}{d t^{2}} x{\\left(t \\right)} - 2.0 x^{2}{\\left(t \\right)} y{\\left(t \\right)} \\frac{d}{d t} x{\\left(t \\right)} \\frac{d}{d t} y{\\left(t \\right)} + 1.0 x{\\left(t \\right)} y^{2}{\\left(t \\right)} \\left(\\frac{d}{d t} x{\\left(t \\right)}\\right)^{2} + 1.0 y^{4}{\\left(t \\right)} \\frac{d^{2}}{d t^{2}} x{\\left(t \\right)}\\right)}{y^{4}{\\left(t \\right)}}$"
      ],
      "text/plain": [
       "1.0*m*(1.0*g*x(t)*y(t)**3 - 1.0*x(t)**3*Derivative(x(t), t)**2 + 1.0*x(t)**2*y(t)**2*Derivative(x(t), (t, 2)) - 2.0*x(t)**2*y(t)*Derivative(x(t), t)*Derivative(y(t), t) + 1.0*x(t)*y(t)**2*Derivative(x(t), t)**2 + 1.0*y(t)**4*Derivative(x(t), (t, 2)))/y(t)**4"
      ]
     },
     "execution_count": 8,
     "metadata": {},
     "output_type": "execute_result"
    }
   ],
   "source": [
    "# Voronec\n",
    "voronec = smp.diff(smp.diff(L_bar,xdot),t) - smp.diff(L_bar,x) - smp.diff(L_bar,y)*a11\n",
    "voronec = smp.simplify(voronec)\n",
    "voronec"
   ]
  },
  {
   "cell_type": "code",
   "execution_count": 9,
   "metadata": {},
   "outputs": [
    {
     "data": {
      "text/latex": [
       "$\\displaystyle - \\frac{\\left(g y^{3}{\\left(t \\right)} - x^{2}{\\left(t \\right)} \\left(\\frac{d}{d t} x{\\left(t \\right)}\\right)^{2} - 2.0 x{\\left(t \\right)} y{\\left(t \\right)} \\frac{d}{d t} x{\\left(t \\right)} \\frac{d}{d t} y{\\left(t \\right)} + y^{2}{\\left(t \\right)} \\left(\\frac{d}{d t} x{\\left(t \\right)}\\right)^{2}\\right) x{\\left(t \\right)}}{\\left(x^{2}{\\left(t \\right)} + y^{2}{\\left(t \\right)}\\right) y^{2}{\\left(t \\right)}}$"
      ],
      "text/plain": [
       "-(g*y(t)**3 - x(t)**2*Derivative(x(t), t)**2 - 2.0*x(t)*y(t)*Derivative(x(t), t)*Derivative(y(t), t) + y(t)**2*Derivative(x(t), t)**2)*x(t)/((x(t)**2 + y(t)**2)*y(t)**2)"
      ]
     },
     "execution_count": 9,
     "metadata": {},
     "output_type": "execute_result"
    }
   ],
   "source": [
    "xddot_ = smp.simplify(smp.solve(voronec,xddot)[0])\n",
    "xddot_"
   ]
  },
  {
   "cell_type": "code",
   "execution_count": 10,
   "metadata": {},
   "outputs": [
    {
     "data": {
      "text/latex": [
       "$\\displaystyle \\frac{- x{\\left(t \\right)} \\frac{d^{2}}{d t^{2}} x{\\left(t \\right)} - \\left(\\frac{d}{d t} x{\\left(t \\right)}\\right)^{2} - \\left(\\frac{d}{d t} y{\\left(t \\right)}\\right)^{2}}{y{\\left(t \\right)}}$"
      ],
      "text/plain": [
       "(-x(t)*Derivative(x(t), (t, 2)) - Derivative(x(t), t)**2 - Derivative(y(t), t)**2)/y(t)"
      ]
     },
     "execution_count": 10,
     "metadata": {},
     "output_type": "execute_result"
    }
   ],
   "source": [
    "yddot_ = smp.simplify(smp.solve(f1_ddot,yddot)[0])\n",
    "yddot_"
   ]
  },
  {
   "cell_type": "code",
   "execution_count": 11,
   "metadata": {},
   "outputs": [
    {
     "data": {
      "text/latex": [
       "$\\displaystyle \\frac{- \\left(\\frac{d}{d t} x{\\left(t \\right)}\\right)^{2} - \\left(\\frac{d}{d t} y{\\left(t \\right)}\\right)^{2} + \\frac{\\left(g y^{3}{\\left(t \\right)} - x^{2}{\\left(t \\right)} \\left(\\frac{d}{d t} x{\\left(t \\right)}\\right)^{2} - 2.0 x{\\left(t \\right)} y{\\left(t \\right)} \\frac{d}{d t} x{\\left(t \\right)} \\frac{d}{d t} y{\\left(t \\right)} + y^{2}{\\left(t \\right)} \\left(\\frac{d}{d t} x{\\left(t \\right)}\\right)^{2}\\right) x^{2}{\\left(t \\right)}}{\\left(x^{2}{\\left(t \\right)} + y^{2}{\\left(t \\right)}\\right) y^{2}{\\left(t \\right)}}}{y{\\left(t \\right)}}$"
      ],
      "text/plain": [
       "(-Derivative(x(t), t)**2 - Derivative(y(t), t)**2 + (g*y(t)**3 - x(t)**2*Derivative(x(t), t)**2 - 2.0*x(t)*y(t)*Derivative(x(t), t)*Derivative(y(t), t) + y(t)**2*Derivative(x(t), t)**2)*x(t)**2/((x(t)**2 + y(t)**2)*y(t)**2))/y(t)"
      ]
     },
     "execution_count": 11,
     "metadata": {},
     "output_type": "execute_result"
    }
   ],
   "source": [
    "yddot_.subs(xddot,xddot_)"
   ]
  },
  {
   "cell_type": "code",
   "execution_count": 12,
   "metadata": {},
   "outputs": [
    {
     "data": {
      "image/png": "[encoded data removed]",
      "text/plain": [
       "<Figure size 1000x800 with 1 Axes>"
      ]
     },
     "metadata": {},
     "output_type": "display_data"
    }
   ],
   "source": [
    "# Parâmetros do sistema\n",
    "g = 9.81  # aceleração da gravidade\n",
    "l = 1.0   # comprimento do pêndulo\n",
    "\n",
    "# Intervalo de tempo para integração\n",
    "t_start = 0.0\n",
    "t_end = (g/l)**(1/2) # plotando um período\n",
    "t_step = 0.001\n",
    "t_span = np.arange(t_start, t_end, t_step)\n",
    "\n",
    "## VORONEC --------------------------------------------------------\n",
    "def pendulum_vor(z, t):\n",
    "    z1 = z[0]   # x\n",
    "    z2 = z[1]   # y\n",
    "    z3 = z[2]   # xdot\n",
    "    z4 = z[3]   # ydot\n",
    "    dz1_dt = z3\n",
    "    dz2_dt = z4\n",
    "    dz3_dt = - (z1*(g*z2**3 - z1**2*z3**2 - 2*z1*z2*z3*z4 + z2**2*z3**2))/((z1**2 + z2**2)*z2**2)\n",
    "    dz4_dt = (- z3**2 - z4**2 + (z1**2*(g*z2**3 - z1**2*z3**2 - 2*z1*z2*z3*z4 + z2**2*z3**2))/((z1**2 + z2**2)*z2**2))/(z2)\n",
    "    return [dz1_dt, dz2_dt, dz3_dt, dz4_dt]\n",
    "\n",
    "# Condições iniciais\n",
    "z0 = [l*np.sin(np.pi/3), l*np.cos(np.pi/3), 0.0, 0.0]\n",
    "\n",
    "# Resolvendo o sistema de equações diferenciais\n",
    "solution = odeint(pendulum_vor, z0, t_span)\n",
    "\n",
    "# Obtendo as soluções para z1, z2, z3 e z4\n",
    "x_sol = solution[:, 0]\n",
    "y_sol = (l**2 - x_sol**2)\n",
    "\n",
    "## TRADICIONAL --------------------------------------------------------\n",
    "def pendulum_an(z, t):\n",
    "    z1 = z[0]\n",
    "    z2 = z[1]\n",
    "    dz1_dt = z2\n",
    "    dz2_dt = -g/l*np.sin(z1)\n",
    "    return [dz1_dt, dz2_dt]\n",
    "\n",
    "# Condições iniciais\n",
    "z0 = [np.pi/3, 0.0]  # z1(0), z2(0)\n",
    "\n",
    "# Resolvendo o sistema de equações diferenciais\n",
    "solution_an = odeint(pendulum_an, z0, t_span)\n",
    "\n",
    "# Obtendo as soluções para z1, z2\n",
    "x_sol_an = l*np.sin(solution_an[:, 0])\n",
    "y_sol_an = l*np.cos(solution_an[:, 0])\n",
    "\n",
    "# Plotando as soluções\n",
    "plt.figure(figsize=(10, 8))\n",
    "plt.plot(x_sol, -y_sol, linestyle='-', color='red', linewidth=3, label=r'$\\mathcal{V}$')\n",
    "plt.plot(x_sol_an, -y_sol_an, linestyle=':', color='blue', linewidth=1, label=r'$\\theta$')\n",
    "plt.xlabel('$x$')\n",
    "plt.ylabel('$y$')\n",
    "plt.title('Pêndulo - Equações de Voronec')\n",
    "plt.legend()\n",
    "plt.grid(True)\n",
    "plt.xlim(-1.0,1.0)\n",
    "plt.ylim(-1.0,0.0)\n",
    "plt.axis()\n",
    "ax = plt.gca()\n",
    "ax.set_aspect('equal', adjustable='box')\n",
    "plt.show()"
   ]
  }
 ],
 "metadata": {
  "kernelspec": {
   "display_name": "Python 3 (ipykernel)",
   "language": "python",
   "name": "python3"
  },
  "language_info": {
   "codemirror_mode": {
    "name": "ipython",
    "version": 3
   },
   "file_extension": ".py",
   "mimetype": "text/x-python",
   "name": "python",
   "nbconvert_exporter": "python",
   "pygments_lexer": "ipython3",
   "version": "3.10.6"
  }
 },
 "nbformat": 4,
 "nbformat_minor": 4
}
