{
 "cells": [
  {
   "attachments": {},
   "cell_type": "markdown",
   "metadata": {},
   "source": [
    "<center>Universidade Estadual Paulista - UNESP</center>\n",
    "<center>Faculdade de Engenharia de Ilha Solteira - FEIS</center>\n",
    "<center>Departamento de Engenharia Mecânica - DEM</center>\n",
    "<center>Programa de Pós-Graduação em Engenharia Mecânica - PPGEM</center>\n",
    "<br>\n",
    "<center><b>Disciplina: Dinâmica dos Sistemas Mecânicos</b></center>\n",
    "<center><b>Pêndulo Simples parametrizado por x e y via Equações de Voronec</b></center>\n",
    "<br>\n",
    "<center><b>Docente:</b> Samuel da Silva</center>\n",
    "<center><b>Discentes:</b> Estevão Fuzaro de Almeida</center>\n",
    "<center>Henrique Cordeiro Novais</center>"
   ]
  },
  {
   "attachments": {},
   "cell_type": "markdown",
   "metadata": {},
   "source": [
    "---"
   ]
  },
  {
   "cell_type": "code",
   "execution_count": 30,
   "metadata": {},
   "outputs": [],
   "source": [
    "# Bibliotecas\n",
    "import numpy as np\n",
    "import matplotlib.pyplot as plt\n",
    "import sympy as smp\n",
    "from scipy.integrate import odeint\n",
    "import matplotlib.font_manager as font_manager\n",
    "from matplotlib import rc\n",
    "\n",
    "#Set the font dictionaries (for plot title and axis titles)\n",
    "rc('font', **{'family': 'serif', 'serif': ['Computer Modern'],'size': '18'})\n",
    "rc('text', usetex=True)"
   ]
  },
  {
   "attachments": {},
   "cell_type": "markdown",
   "metadata": {},
   "source": [
    "### **1. Fazendo por $x$ e $y$.**"
   ]
  },
  {
   "cell_type": "code",
   "execution_count": 31,
   "metadata": {},
   "outputs": [],
   "source": [
    "# Definindo as variáveis do problema\n",
    "t, l, m, g = smp.symbols('t, l, m, g', real=True) # Tempo \"t\", Comprimento \"l\", Massa \"m\", Gravidade \"g\"\n",
    "x, y = smp.symbols('x, y', cls=smp.Function) # x e y -> Coordenadas não-generalizadas\n",
    "lbda = smp.symbols('\\lambda',real=True)"
   ]
  },
  {
   "cell_type": "code",
   "execution_count": 32,
   "metadata": {},
   "outputs": [],
   "source": [
    "# Deslocamentos\n",
    "x = x(t)\n",
    "y = y(t)\n",
    "\n",
    "# Velocidades\n",
    "xdot = smp.diff(x,t)\n",
    "ydot = smp.diff(y,t)\n",
    "\n",
    "# Acelerações\n",
    "xddot = smp.diff(xdot,t)\n",
    "yddot = smp.diff(ydot,t)"
   ]
  },
  {
   "cell_type": "code",
   "execution_count": 33,
   "metadata": {},
   "outputs": [
    {
     "data": {
      "text/latex": [
       "$\\displaystyle - \\frac{x{\\left(t \\right)} \\frac{d}{d t} x{\\left(t \\right)}}{y{\\left(t \\right)}}$"
      ],
      "text/plain": [
       "-x(t)*Derivative(x(t), t)/y(t)"
      ]
     },
     "execution_count": 33,
     "metadata": {},
     "output_type": "execute_result"
    }
   ],
   "source": [
    "# Vínculo holônomo\n",
    "f1 = x**2 + y**2 - l**2\n",
    "# f1_ = (l**2 - x**2)**(-1/2)\n",
    "f1_dot = smp.diff(f1,t)\n",
    "y_dot = smp.solve(f1_dot,ydot)[0]\n",
    "y_dot"
   ]
  },
  {
   "cell_type": "code",
   "execution_count": 34,
   "metadata": {},
   "outputs": [
    {
     "data": {
      "text/latex": [
       "$\\displaystyle g m y{\\left(t \\right)} + 0.5 m \\left(\\frac{x^{2}{\\left(t \\right)} \\left(\\frac{d}{d t} x{\\left(t \\right)}\\right)^{2}}{y^{2}{\\left(t \\right)}} + \\left(\\frac{d}{d t} x{\\left(t \\right)}\\right)^{2}\\right)$"
      ],
      "text/plain": [
       "g*m*y(t) + 0.5*m*(x(t)**2*Derivative(x(t), t)**2/y(t)**2 + Derivative(x(t), t)**2)"
      ]
     },
     "execution_count": 34,
     "metadata": {},
     "output_type": "execute_result"
    }
   ],
   "source": [
    "# Energia cinética\n",
    "T = (1/2)*m*(xdot**2 + y_dot**2)\n",
    "# Energia potencial\n",
    "V = -m*g*y\n",
    "# Lagrangiana reduzida\n",
    "L_bar = T - V\n",
    "L_bar"
   ]
  },
  {
   "cell_type": "code",
   "execution_count": 35,
   "metadata": {},
   "outputs": [
    {
     "data": {
      "text/latex": [
       "$\\displaystyle - \\frac{x{\\left(t \\right)}}{y{\\left(t \\right)}}$"
      ],
      "text/plain": [
       "-x(t)/y(t)"
      ]
     },
     "execution_count": 35,
     "metadata": {},
     "output_type": "execute_result"
    }
   ],
   "source": [
    "# Principio de Hamilton\n",
    "delL_delx = smp.diff(L_bar,x)\n",
    "delL_delxdot = smp.diff(L_bar,xdot)\n",
    "delL_dely = smp.diff(L_bar,y)\n",
    "\n",
    "alj = y_dot/xdot\n",
    "alj"
   ]
  },
  {
   "cell_type": "code",
   "execution_count": 44,
   "metadata": {},
   "outputs": [
    {
     "data": {
      "text/latex": [
       "$\\displaystyle 0.5 m \\left(\\frac{2 x^{2}{\\left(t \\right)} \\frac{d^{2}}{d t^{2}} x{\\left(t \\right)}}{y^{2}{\\left(t \\right)}} - \\frac{4 x^{2}{\\left(t \\right)} \\frac{d}{d t} x{\\left(t \\right)} \\frac{d}{d t} y{\\left(t \\right)}}{y^{3}{\\left(t \\right)}} + \\frac{4 x{\\left(t \\right)} \\left(\\frac{d}{d t} x{\\left(t \\right)}\\right)^{2}}{y^{2}{\\left(t \\right)}} + 2 \\frac{d^{2}}{d t^{2}} x{\\left(t \\right)}\\right) - \\frac{1.0 m x{\\left(t \\right)} \\left(\\frac{d}{d t} x{\\left(t \\right)}\\right)^{2}}{y^{2}{\\left(t \\right)}} + \\frac{\\left(g m - \\frac{1.0 m x^{2}{\\left(t \\right)} \\left(\\frac{d}{d t} x{\\left(t \\right)}\\right)^{2}}{y^{3}{\\left(t \\right)}}\\right) x{\\left(t \\right)}}{y{\\left(t \\right)}}$"
      ],
      "text/plain": [
       "0.5*m*(2*x(t)**2*Derivative(x(t), (t, 2))/y(t)**2 - 4*x(t)**2*Derivative(x(t), t)*Derivative(y(t), t)/y(t)**3 + 4*x(t)*Derivative(x(t), t)**2/y(t)**2 + 2*Derivative(x(t), (t, 2))) - 1.0*m*x(t)*Derivative(x(t), t)**2/y(t)**2 + (g*m - 1.0*m*x(t)**2*Derivative(x(t), t)**2/y(t)**3)*x(t)/y(t)"
      ]
     },
     "execution_count": 44,
     "metadata": {},
     "output_type": "execute_result"
    }
   ],
   "source": [
    "Voronec = smp.diff(delL_delxdot,t) - delL_delx - delL_dely*alj\n",
    "Voronec\n"
   ]
  },
  {
   "cell_type": "code",
   "execution_count": 45,
   "metadata": {},
   "outputs": [
    {
     "data": {
      "text/latex": [
       "$\\displaystyle \\frac{\\left(- 1.0 g y^{3}{\\left(t \\right)} + 1.0 x^{2}{\\left(t \\right)} \\left(\\frac{d}{d t} x{\\left(t \\right)}\\right)^{2} + 2.0 x{\\left(t \\right)} y{\\left(t \\right)} \\frac{d}{d t} x{\\left(t \\right)} \\frac{d}{d t} y{\\left(t \\right)} - 1.0 y^{2}{\\left(t \\right)} \\left(\\frac{d}{d t} x{\\left(t \\right)}\\right)^{2}\\right) x{\\left(t \\right)}}{\\left(x^{2}{\\left(t \\right)} + y^{2}{\\left(t \\right)}\\right) y^{2}{\\left(t \\right)}}$"
      ],
      "text/plain": [
       "(-1.0*g*y(t)**3 + 1.0*x(t)**2*Derivative(x(t), t)**2 + 2.0*x(t)*y(t)*Derivative(x(t), t)*Derivative(y(t), t) - 1.0*y(t)**2*Derivative(x(t), t)**2)*x(t)/((x(t)**2 + y(t)**2)*y(t)**2)"
      ]
     },
     "execution_count": 45,
     "metadata": {},
     "output_type": "execute_result"
    }
   ],
   "source": [
    "xddot_ = smp.solve(Voronec,xddot,simplify=True, rational=False)[0]\n",
    "xddot_func = smp.lambdify((g,x,y,xdot,ydot))"
   ]
  },
  {
   "cell_type": "code",
   "execution_count": 8,
   "metadata": {},
   "outputs": [
    {
     "data": {
      "image/png": "[encoded data removed]",
      "text/plain": [
       "<Figure size 1000x800 with 1 Axes>"
      ]
     },
     "metadata": {},
     "output_type": "display_data"
    }
   ],
   "source": [
    "# Parâmetros do sistema\n",
    "g = 9.81  # aceleração da gravidade\n",
    "l = 1.0   # comprimento do pêndulo\n",
    "\n",
    "# Intervalo de tempo para integração\n",
    "t_start = 0.0\n",
    "t_end = 20.0\n",
    "t_step = 0.001\n",
    "t_span = np.arange(t_start, t_end, t_step)\n",
    "\n",
    "## VORONEC --------------------------------------------------------\n",
    "def pendulum_vor(z, t):\n",
    "    x = z[0]\n",
    "    y = z[1]\n",
    "    dx = z[2]\n",
    "    dy = -x/y*dx\n",
    "    return [dx, dy]\n",
    "\n",
    "# Condições iniciais\n",
    "z0 = [l*np.sin(np.pi/3), 0.0]  # z1(0), z2(0)\n",
    "\n",
    "# Resolvendo o sistema de equações diferenciais\n",
    "solution = odeint(pendulum_vor, z0, t_span)\n",
    "\n",
    "# Obtendo as soluções para z1, z2, z3 e z4\n",
    "x_sol = solution[:, 0]\n",
    "y_sol = (l**2 - x_sol**2)\n",
    "\n",
    "## TRADICIONAL --------------------------------------------------------\n",
    "def pendulum_an(z, t):\n",
    "    z1 = z[0]\n",
    "    z2 = z[1]\n",
    "    dz1_dt = z2\n",
    "    dz2_dt = -g/l*np.sin(z1)\n",
    "    return [dz1_dt, dz2_dt]\n",
    "\n",
    "# Condições iniciais\n",
    "z0 = [np.pi/3, 0.0]  # z1(0), z2(0)\n",
    "\n",
    "# Resolvendo o sistema de equações diferenciais\n",
    "solution_an = odeint(pendulum_an, z0, t_span)\n",
    "\n",
    "# Obtendo as soluções para z1, z2\n",
    "x_sol_an = l*np.sin(solution_an[:, 0])\n",
    "y_sol_an = l*np.cos(solution_an[:, 0])\n",
    "\n",
    "# Plotando as soluções\n",
    "plt.figure(figsize=(10, 8))\n",
    "plt.plot(x_sol, -y_sol, linestyle='-', color='red', linewidth=3, label=r'$\\mathcal{V}$')\n",
    "plt.plot(x_sol_an, -y_sol_an, linestyle=':', color='blue', linewidth=1, label=r'$\\theta$')\n",
    "plt.xlabel('$x$')\n",
    "plt.ylabel('$y$')\n",
    "plt.title('Pêndulo - Equações de Voronec')\n",
    "plt.legend()\n",
    "plt.grid(True)\n",
    "# plt.xlim(-1.0,1.0)\n",
    "# plt.ylim(-1.0,0.0)\n",
    "plt.axis()\n",
    "ax = plt.gca()\n",
    "ax.set_aspect('equal', adjustable='box')\n",
    "plt.show()"
   ]
  }
 ],
 "metadata": {
  "kernelspec": {
   "display_name": "Python 3 (ipykernel)",
   "language": "python",
   "name": "python3"
  },
  "language_info": {
   "codemirror_mode": {
    "name": "ipython",
    "version": 3
   },
   "file_extension": ".py",
   "mimetype": "text/x-python",
   "name": "python",
   "nbconvert_exporter": "python",
   "pygments_lexer": "ipython3",
   "version": "3.10.6"
  }
 },
 "nbformat": 4,
 "nbformat_minor": 4
}
