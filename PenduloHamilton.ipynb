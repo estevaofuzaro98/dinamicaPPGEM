{
 "cells": [
  {
   "attachments": {},
   "cell_type": "markdown",
   "metadata": {},
   "source": [
    "<center>Universidade Estadual Paulista - UNESP</center>\n",
    "<center>Faculdade de Engenharia de Ilha Solteira - FEIS</center>\n",
    "<center>Departamento de Engenharia Mecânica - DEM</center>\n",
    "<center>Programa de Pós-Graduação em Engenharia Mecânica - PPGEM</center>\n",
    "<br>\n",
    "<center><b>Disciplina: Dinâmica dos Sistemas Mecânicos</b></center>\n",
    "<center><b>Pêndulo Simples parametrizado por x e y via Princípio de Hamilton</b></center>\n",
    "<br>\n",
    "<center><b>Docente:</b> Samuel da Silva</center>\n",
    "<center><b>Discentes:</b> Estevão Fuzaro de Almeida</center>\n",
    "<center>Henrique Cordeiro Novais</center>"
   ]
  },
  {
   "attachments": {},
   "cell_type": "markdown",
   "metadata": {},
   "source": [
    "---"
   ]
  },
  {
   "attachments": {},
   "cell_type": "markdown",
   "metadata": {},
   "source": [
    "### **1. Fazendo por $x$ e $y$.**"
   ]
  },
  {
   "cell_type": "code",
   "execution_count": null,
   "metadata": {},
   "outputs": [],
   "source": [
    "# Vínculo holônomo\n",
    "cnstr = x**2 + y**2 - l**2\n",
    "cnstrx = smp.diff(cnstr,x)\n",
    "cnstry = smp.sqrt(l**2 - x**2)\n",
    "eq = - cnstrx/(2*cnstry)\n",
    "eq"
   ]
  },
  {
   "cell_type": "code",
   "execution_count": null,
   "metadata": {},
   "outputs": [],
   "source": [
    "# Principio de Hamilton\n",
    "dLdx = smp.diff(L,x)\n",
    "dLdxdot = smp.diff(L,xdot)\n",
    "dLdy = smp.diff(L,y)\n",
    "dLdydot = smp.diff(L,ydot)\n",
    "Ham_x = dLdx - smp.diff(dLdxdot,t)\n",
    "Ham_y = dLdy - smp.diff(dLdydot,t)\n",
    "Ham = Ham_x + Ham_y*eq\n",
    "Ham"
   ]
  },
  {
   "cell_type": "code",
   "execution_count": null,
   "metadata": {},
   "outputs": [],
   "source": [
    "# Parâmetros do sistema\n",
    "g = 9.81  # aceleração da gravidade\n",
    "l = 1.0   # comprimento do pêndulo\n",
    "\n",
    "# Intervalo de tempo para integração\n",
    "t_start = 0.0\n",
    "t_end = 20.0\n",
    "t_step = 0.001\n",
    "t_span = np.arange(t_start, t_end, t_step)\n",
    "\n",
    "## HAMILTON --------------------------------------------------------\n",
    "def pendulum_ham(z, t):\n",
    "    z1 = z[0]\n",
    "    z2 = z[1]\n",
    "    dz1_dt = z2\n",
    "    dz2_dt = -((g*(l**2 - z1**2)**(3/2) + l**2*(z2**2))*z1)/(l**2*z1**2 + (l**2 - z1**2)**2 - z1**4)\n",
    "    return [dz1_dt, dz2_dt]\n",
    "\n",
    "# Condições iniciais\n",
    "z0 = [l*np.sin(np.pi/3), 0.0]  # z1(0), z2(0)\n",
    "\n",
    "# Resolvendo o sistema de equações diferenciais\n",
    "solution = odeint(pendulum_ham, z0, t_span)\n",
    "\n",
    "# Obtendo as soluções para z1, z2, z3 e z4\n",
    "x_sol = solution[:, 0]\n",
    "y_sol = (l**2 - x_sol**2)\n",
    "\n",
    "## TRADICIONAL --------------------------------------------------------\n",
    "def pendulum_an(z, t):\n",
    "    z1 = z[0]\n",
    "    z2 = z[1]\n",
    "    dz1_dt = z2\n",
    "    dz2_dt = -g/l*np.sin(z1)\n",
    "    return [dz1_dt, dz2_dt]\n",
    "\n",
    "# Condições iniciais\n",
    "z0 = [np.pi/3, 0.0]  # z1(0), z2(0)\n",
    "\n",
    "# Resolvendo o sistema de equações diferenciais\n",
    "solution_an = odeint(pendulum_an, z0, t_span)\n",
    "\n",
    "# Obtendo as soluções para z1, z2\n",
    "x_sol_an = l*np.sin(solution_an[:, 0])\n",
    "y_sol_an = l*np.cos(solution_an[:, 0])\n",
    "\n",
    "# Plotando as soluções\n",
    "plt.figure(figsize=(10, 8))\n",
    "plt.plot(x_sol, -y_sol, linestyle='-', color='red', linewidth=3, label=r'$\\mathcal{H}$')\n",
    "plt.plot(x_sol_an, -y_sol_an, linestyle=':', color='blue', linewidth=1, label=r'$\\theta$')\n",
    "plt.xlabel('$x$')\n",
    "plt.ylabel('$y$')\n",
    "plt.title('Pêndulo - Princípio de Hamilton')\n",
    "plt.legend()\n",
    "plt.grid(True)\n",
    "plt.xlim(-1.0,1.0)\n",
    "plt.ylim(-1.0,0.0)\n",
    "plt.axis()\n",
    "ax = plt.gca()\n",
    "ax.set_aspect('equal', adjustable='box')\n",
    "plt.show()"
   ]
  }
 ],
 "metadata": {
  "kernelspec": {
   "display_name": "Python 3 (ipykernel)",
   "language": "python",
   "name": "python3"
  },
  "language_info": {
   "codemirror_mode": {
    "name": "ipython",
    "version": 3
   },
   "file_extension": ".py",
   "mimetype": "text/x-python",
   "name": "python",
   "nbconvert_exporter": "python",
   "pygments_lexer": "ipython3",
   "version": "3.10.6"
  }
 },
 "nbformat": 4,
 "nbformat_minor": 4
}
