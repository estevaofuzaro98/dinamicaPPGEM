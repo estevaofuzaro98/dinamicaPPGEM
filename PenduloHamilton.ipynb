{
 "cells": [
  {
   "attachments": {},
   "cell_type": "markdown",
   "metadata": {},
   "source": [
    "<center>Universidade Estadual Paulista - UNESP</center>\n",
    "<center>Faculdade de Engenharia de Ilha Solteira - FEIS</center>\n",
    "<center>Departamento de Engenharia Mecânica - DEM</center>\n",
    "<center>Programa de Pós-Graduação em Engenharia Mecânica - PPGEM</center>\n",
    "<br>\n",
    "<center><b>Disciplina: Dinâmica dos Sistemas Mecânicos</b></center>\n",
    "<center><b>Pêndulo Simples parametrizado por x e y via Princípio de Hamilton</b></center>\n",
    "<br>\n",
    "<center><b>Docente:</b> Samuel da Silva</center>\n",
    "<center><b>Discentes:</b> Estevão Fuzaro de Almeida</center>\n",
    "<center>Henrique Cordeiro Novais</center>"
   ]
  },
  {
   "attachments": {},
   "cell_type": "markdown",
   "metadata": {},
   "source": [
    "---"
   ]
  },
  {
   "cell_type": "code",
   "execution_count": null,
   "metadata": {},
   "outputs": [],
   "source": [
    "# Bibliotecas\n",
    "import numpy as np\n",
    "import matplotlib.pyplot as plt\n",
    "import sympy as smp\n",
    "from scipy.integrate import odeint\n",
    "import matplotlib.font_manager as font_manager\n",
    "from matplotlib import rc\n",
    "\n",
    "#Set the font dictionaries (for plot title and axis titles)\n",
    "rc('font', **{'family': 'serif', 'serif': ['Computer Modern'],'size': '18'})\n",
    "rc('text', usetex=True)"
   ]
  },
  {
   "attachments": {},
   "cell_type": "markdown",
   "metadata": {},
   "source": [
    "### **1. Fazendo por $x$ e $y$.**"
   ]
  },
  {
   "cell_type": "code",
   "execution_count": 2,
   "metadata": {},
   "outputs": [],
   "source": [
    "# Definindo as variáveis do problema\n",
    "t, l, m, g = smp.symbols('t, l, m, g', real=True) # Tempo \"t\", Comprimento \"l\", Massa \"m\", Gravidade \"g\"\n",
    "x, y = smp.symbols('x, y', cls=smp.Function) # x e y -> Coordenadas não-generalizadas\n",
    "lbda = smp.symbols('\\lambda',real=True)"
   ]
  },
  {
   "cell_type": "code",
   "execution_count": 3,
   "metadata": {},
   "outputs": [],
   "source": [
    "# Deslocamentos\n",
    "x = x(t)\n",
    "y = y(t)\n",
    "\n",
    "# Velocidades\n",
    "xdot = smp.diff(x,t)\n",
    "ydot = smp.diff(y,t)\n",
    "\n",
    "# Acelerações\n",
    "xddot = smp.diff(xdot,t)\n",
    "yddot = smp.diff(ydot,t)"
   ]
  },
  {
   "cell_type": "code",
   "execution_count": 4,
   "metadata": {},
   "outputs": [
    {
     "data": {
      "text/latex": [
       "$\\displaystyle - \\frac{x{\\left(t \\right)}}{\\sqrt{l^{2} - x^{2}{\\left(t \\right)}}}$"
      ],
      "text/plain": [
       "-x(t)/sqrt(l**2 - x(t)**2)"
      ]
     },
     "execution_count": 4,
     "metadata": {},
     "output_type": "execute_result"
    }
   ],
   "source": [
    "# Vínculo holônomo\n",
    "cnstr = x**2 + y**2 - l**2\n",
    "cnstrx = smp.diff(cnstr,x)\n",
    "cnstry = smp.sqrt(l**2 - x**2)\n",
    "eq = - cnstrx/(2*cnstry)\n",
    "eq"
   ]
  },
  {
   "cell_type": "code",
   "execution_count": 5,
   "metadata": {},
   "outputs": [
    {
     "data": {
      "text/latex": [
       "$\\displaystyle \\frac{- l^{2} x{\\left(t \\right)} \\frac{d^{2}}{d t^{2}} x{\\left(t \\right)} - l^{2} \\left(\\frac{d}{d t} x{\\left(t \\right)}\\right)^{2} + x^{3}{\\left(t \\right)} \\frac{d^{2}}{d t^{2}} x{\\left(t \\right)}}{\\left(l^{2} - x^{2}{\\left(t \\right)}\\right)^{\\frac{3}{2}}}$"
      ],
      "text/plain": [
       "(-l**2*x(t)*Derivative(x(t), (t, 2)) - l**2*Derivative(x(t), t)**2 + x(t)**3*Derivative(x(t), (t, 2)))/(l**2 - x(t)**2)**(3/2)"
      ]
     },
     "execution_count": 5,
     "metadata": {},
     "output_type": "execute_result"
    }
   ],
   "source": [
    "cnstry_dot = smp.diff(cnstry,t)\n",
    "cnstry_ddot = smp.simplify(smp.diff(cnstry_dot,t))\n",
    "cnstry_ddot"
   ]
  },
  {
   "cell_type": "code",
   "execution_count": 6,
   "metadata": {},
   "outputs": [
    {
     "data": {
      "text/latex": [
       "$\\displaystyle g m y{\\left(t \\right)} + 0.5 m \\left(\\left(\\frac{d}{d t} x{\\left(t \\right)}\\right)^{2} + \\left(\\frac{d}{d t} y{\\left(t \\right)}\\right)^{2}\\right)$"
      ],
      "text/plain": [
       "g*m*y(t) + 0.5*m*(Derivative(x(t), t)**2 + Derivative(y(t), t)**2)"
      ]
     },
     "execution_count": 6,
     "metadata": {},
     "output_type": "execute_result"
    }
   ],
   "source": [
    "# Energia cinética\n",
    "T = (1/2)*m*(xdot**2 + ydot**2)\n",
    "# Energia potencial\n",
    "V = -m*g*y\n",
    "# Lagrangiano\n",
    "L = T - V\n",
    "L"
   ]
  },
  {
   "cell_type": "code",
   "execution_count": 7,
   "metadata": {},
   "outputs": [
    {
     "data": {
      "text/latex": [
       "$\\displaystyle - 1.0 m \\frac{d^{2}}{d t^{2}} x{\\left(t \\right)} - \\frac{\\left(g m - 1.0 m \\frac{d^{2}}{d t^{2}} y{\\left(t \\right)}\\right) x{\\left(t \\right)}}{\\sqrt{l^{2} - x^{2}{\\left(t \\right)}}}$"
      ],
      "text/plain": [
       "-1.0*m*Derivative(x(t), (t, 2)) - (g*m - 1.0*m*Derivative(y(t), (t, 2)))*x(t)/sqrt(l**2 - x(t)**2)"
      ]
     },
     "execution_count": 7,
     "metadata": {},
     "output_type": "execute_result"
    }
   ],
   "source": [
    "# Principio de Hamilton\n",
    "dLdx = smp.diff(L,x)\n",
    "dLdxdot = smp.diff(L,xdot)\n",
    "dLdy = smp.diff(L,y)\n",
    "dLdydot = smp.diff(L,ydot)\n",
    "Ham_x = dLdx - smp.diff(dLdxdot,t)\n",
    "Ham_y = dLdy - smp.diff(dLdydot,t)\n",
    "Ham = Ham_x + Ham_y*eq\n",
    "Ham"
   ]
  },
  {
   "cell_type": "code",
   "execution_count": 8,
   "metadata": {},
   "outputs": [
    {
     "data": {
      "text/latex": [
       "$\\displaystyle - \\frac{\\left(g \\left(l^{2} - x^{2}{\\left(t \\right)}\\right)^{\\frac{3}{2}} + l^{2} \\left(\\frac{d}{d t} x{\\left(t \\right)}\\right)^{2}\\right) x{\\left(t \\right)}}{l^{2} x^{2}{\\left(t \\right)} + \\left(l^{2} - x^{2}{\\left(t \\right)}\\right)^{2} - x^{4}{\\left(t \\right)}}$"
      ],
      "text/plain": [
       "-(g*(l**2 - x(t)**2)**(3/2) + l**2*Derivative(x(t), t)**2)*x(t)/(l**2*x(t)**2 + (l**2 - x(t)**2)**2 - x(t)**4)"
      ]
     },
     "execution_count": 8,
     "metadata": {},
     "output_type": "execute_result"
    }
   ],
   "source": [
    "aux = Ham.subs(yddot,cnstry_ddot)\n",
    "xddot_ = smp.solve(aux,xddot)[0]\n",
    "xddot_"
   ]
  },
  {
   "cell_type": "code",
   "execution_count": 9,
   "metadata": {},
   "outputs": [
    {
     "data": {
      "image/png": "[encoded data removed]",
      "text/plain": [
       "<Figure size 1000x800 with 1 Axes>"
      ]
     },
     "metadata": {},
     "output_type": "display_data"
    }
   ],
   "source": [
    "# Parâmetros do sistema\n",
    "g = 9.81  # aceleração da gravidade\n",
    "l = 1.0   # comprimento do pêndulo\n",
    "\n",
    "# Intervalo de tempo para integração\n",
    "t_start = 0.0\n",
    "t_end = 20.0\n",
    "t_step = 0.001\n",
    "t_span = np.arange(t_start, t_end, t_step)\n",
    "\n",
    "## HAMILTON --------------------------------------------------------\n",
    "def pendulum_ham(z, t):\n",
    "    z1 = z[0]\n",
    "    z2 = z[1]\n",
    "    dz1_dt = z2\n",
    "    dz2_dt = -((g*(l**2 - z1**2)**(3/2) + l**2*(z2**2))*z1)/(l**2*z1**2 + (l**2 - z1**2)**2 - z1**4)\n",
    "    return [dz1_dt, dz2_dt]\n",
    "\n",
    "# Condições iniciais\n",
    "z0 = [l*np.sin(np.pi/3), 0.0]  # z1(0), z2(0)\n",
    "\n",
    "# Resolvendo o sistema de equações diferenciais\n",
    "solution = odeint(pendulum_ham, z0, t_span)\n",
    "\n",
    "# Obtendo as soluções para z1, z2, z3 e z4\n",
    "x_sol = solution[:, 0]\n",
    "y_sol = (l**2 - x_sol**2)\n",
    "\n",
    "## TRADICIONAL --------------------------------------------------------\n",
    "def pendulum_an(z, t):\n",
    "    z1 = z[0]\n",
    "    z2 = z[1]\n",
    "    dz1_dt = z2\n",
    "    dz2_dt = -g/l*np.sin(z1)\n",
    "    return [dz1_dt, dz2_dt]\n",
    "\n",
    "# Condições iniciais\n",
    "z0 = [np.pi/3, 0.0]  # z1(0), z2(0)\n",
    "\n",
    "# Resolvendo o sistema de equações diferenciais\n",
    "solution_an = odeint(pendulum_an, z0, t_span)\n",
    "\n",
    "# Obtendo as soluções para z1, z2\n",
    "x_sol_an = l*np.sin(solution_an[:, 0])\n",
    "y_sol_an = l*np.cos(solution_an[:, 0])\n",
    "\n",
    "# Plotando as soluções\n",
    "plt.figure(figsize=(10, 8))\n",
    "plt.plot(x_sol, -y_sol, linestyle='-', color='red', linewidth=3, label=r'$\\mathcal{H}$')\n",
    "plt.plot(x_sol_an, -y_sol_an, linestyle=':', color='blue', linewidth=1, label=r'$\\theta$')\n",
    "plt.xlabel('$x$')\n",
    "plt.ylabel('$y$')\n",
    "plt.title('Pêndulo - Princípio de Hamilton')\n",
    "plt.legend()\n",
    "plt.grid(True)\n",
    "plt.xlim(-1.0,1.0)\n",
    "plt.ylim(-1.0,0.0)\n",
    "plt.axis()\n",
    "ax = plt.gca()\n",
    "ax.set_aspect('equal', adjustable='box')\n",
    "plt.show()"
   ]
  }
 ],
 "metadata": {
  "kernelspec": {
   "display_name": "Python 3 (ipykernel)",
   "language": "python",
   "name": "python3"
  },
  "language_info": {
   "codemirror_mode": {
    "name": "ipython",
    "version": 3
   },
   "file_extension": ".py",
   "mimetype": "text/x-python",
   "name": "python",
   "nbconvert_exporter": "python",
   "pygments_lexer": "ipython3",
   "version": "3.10.6"
  }
 },
 "nbformat": 4,
 "nbformat_minor": 4
}
