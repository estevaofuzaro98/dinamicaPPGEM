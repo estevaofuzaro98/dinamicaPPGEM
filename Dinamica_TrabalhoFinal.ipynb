{
  "nbformat": 4,
  "nbformat_minor": 0,
  "metadata": {
    "colab": {
      "provenance": [],
      "collapsed_sections": [
        "6bdrcpayCHN0",
        "HMVu5n1iCc2c",
        "ioh4wwxwCmok"
      ],
      "authorship_tag": "ABX9TyNE8jAAKaqw5s8gJJdGitcg",
      "include_colab_link": true
    },
    "kernelspec": {
      "name": "python3",
      "display_name": "Python 3"
    },
    "language_info": {
      "name": "python"
    }
  },
  "cells": [
    {
      "cell_type": "markdown",
      "metadata": {
        "id": "view-in-github",
        "colab_type": "text"
      },
      "source": [
        "<a href=\"https://colab.research.google.com/github/estevaofuzaro98/dinamicaPPGEM/blob/main/Dinamica_TrabalhoFinal.ipynb\" target=\"_parent\"><img src=\"https://colab.research.google.com/assets/colab-badge.svg\" alt=\"Open In Colab\"/></a>"
      ]
    },
    {
      "cell_type": "markdown",
      "source": [
        "> **Universidade Estadual Paulista - UNESP**\n",
        ">\n",
        "> **Faculdade de Engenharia de Ilha Solteira - FEIS**\n",
        ">\n",
        "> **Departamento de Engenharia Mecânica - DEM**\n",
        ">\n",
        "> **Programa de Pós-Graduação em Engenharia Mecânica - PPGEM**\n",
        ">\n",
        "> ---\n",
        ">\n",
        "> **DINÂMICA DOS SISTEMAS MECÂNICOS**\n",
        ">\n",
        "> **TRABALHO FINAL**\n",
        ">\n",
        "> **Docente:** Samuel da Silva\n",
        ">\n",
        "> **Discentes:** Estevão Fuzaro de Almeida & Henrique Cordeiro Novais\n",
        "\n",
        "---"
      ],
      "metadata": {
        "id": "1Xwd0iygBWYl"
      }
    },
    {
      "cell_type": "code",
      "source": [
        "!sudo dpkg --configure -a\n",
        "!sudo apt-get update --fix-missing\n",
        "!sudo apt-get install texlive-latex-extra texlive-fonts-recommended dvipng cm-super # plot with latex fonts\n",
        "!pip install colorblind\n",
        "\n",
        "# Bibliotecas\n",
        "import numpy as np\n",
        "import matplotlib.pyplot as plt\n",
        "import sympy as smp\n",
        "import os\n",
        "from scipy.integrate import odeint\n",
        "import matplotlib.font_manager as font_manager\n",
        "from matplotlib import rc\n",
        "from sympy import symbols, latex\n",
        "from google.colab import drive\n",
        "\n",
        "# Setar fontes em LaTeX para os plots\n",
        "rc('font', **{'family': 'serif', 'serif': ['Computer Modern'],'size': '18'})\n",
        "rc('text', usetex=True)\n",
        "\n",
        "drive.mount('/content/drive')\n",
        "# Diretório Google Drive\n",
        "diretorio = '/content/drive/MyDrive/Colab Notebooks/DinamicaPPGEM'\n",
        "print(os.getcwd())\n",
        "# Mudar diretório\n",
        "os.chdir(diretorio)\n",
        "print(os.getcwd())"
      ],
      "metadata": {
        "id": "8qS4MHk2Bus_",
        "colab": {
          "base_uri": "https://localhost:8080/"
        },
        "outputId": "29cc5baf-f90e-4704-c1ab-fb88e8bd166b"
      },
      "execution_count": 1,
      "outputs": [
        {
          "output_type": "stream",
          "name": "stdout",
          "text": [
            "\r0% [Working]\r            \rHit:1 http://security.ubuntu.com/ubuntu focal-security InRelease\n",
            "\r0% [Waiting for headers] [Connecting to cloud.r-project.org (108.138.128.85)] [\r                                                                               \rHit:2 http://archive.ubuntu.com/ubuntu focal InRelease\n",
            "\r0% [Waiting for headers] [Connected to cloud.r-project.org (108.138.128.85)] [C\r                                                                               \rHit:3 http://archive.ubuntu.com/ubuntu focal-updates InRelease\n",
            "\r0% [Waiting for headers] [Connected to cloud.r-project.org (108.138.128.85)] [C\r                                                                               \rHit:4 http://archive.ubuntu.com/ubuntu focal-backports InRelease\n",
            "\r0% [Waiting for headers] [Connecting to ppa.launchpad.net (185.125.190.52)] [Wa\r                                                                               \rGet:5 https://cloud.r-project.org/bin/linux/ubuntu focal-cran40/ InRelease [3,622 B]\n",
            "Hit:6 https://developer.download.nvidia.com/compute/cuda/repos/ubuntu2004/x86_64  InRelease\n",
            "Hit:7 http://ppa.launchpad.net/c2d4u.team/c2d4u4.0+/ubuntu focal InRelease\n",
            "Hit:8 http://ppa.launchpad.net/cran/libgit2/ubuntu focal InRelease\n",
            "Hit:9 http://ppa.launchpad.net/deadsnakes/ppa/ubuntu focal InRelease\n",
            "Hit:10 http://ppa.launchpad.net/graphics-drivers/ppa/ubuntu focal InRelease\n",
            "Hit:11 http://ppa.launchpad.net/ubuntugis/ppa/ubuntu focal InRelease\n",
            "Fetched 3,622 B in 1s (3,213 B/s)\n",
            "Reading package lists... Done\n",
            "Reading package lists... Done\n",
            "Building dependency tree       \n",
            "Reading state information... Done\n",
            "cm-super is already the newest version (0.3.4-15).\n",
            "dvipng is already the newest version (1.15-1.1).\n",
            "texlive-fonts-recommended is already the newest version (2019.20200218-1).\n",
            "texlive-latex-extra is already the newest version (2019.202000218-1).\n",
            "0 upgraded, 0 newly installed, 0 to remove and 15 not upgraded.\n",
            "Requirement already satisfied: colorblind in /usr/local/lib/python3.10/dist-packages (0.0.9)\n",
            "Drive already mounted at /content/drive; to attempt to forcibly remount, call drive.mount(\"/content/drive\", force_remount=True).\n",
            "/content\n",
            "/content/drive/MyDrive/Colab Notebooks/DinamicaPPGEM\n"
          ]
        }
      ]
    },
    {
      "cell_type": "markdown",
      "source": [
        "# **1. Pêndulo simples**\n",
        "\n",
        "Vamos considerar um pêndulo simples com comprimento $L$ e massa $m$ sofrendo a ação de um campo gravitacional $g=9.8~\\textrm{m/s}^2$.\n",
        "\n"
      ],
      "metadata": {
        "id": "6oW6x5d2B8tM"
      }
    },
    {
      "cell_type": "markdown",
      "source": [
        "![pendulo1.png](data:image/png;base64,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)\n",
        "\n"
      ],
      "metadata": {
        "id": "TdabbPCzFU2t"
      }
    },
    {
      "cell_type": "markdown",
      "source": [
        "## **1.1. Multiplicadores de Lagrange**\n",
        "\n"
      ],
      "metadata": {
        "id": "6bdrcpayCHN0"
      }
    },
    {
      "cell_type": "markdown",
      "source": [
        "\n",
        "A equação de vínculo parametrizada em coordenadas $x$ e $y$ é uma função $f(x,y)$ dada por:\n",
        "\n",
        "$$ f(x,y) = x^2 + y^2 - L^2 = 0 $$\n",
        "\n",
        "A energia cinética é dada é uma função de $\\dot{x}$ e $\\dot{y}$ do tipo:\n",
        "\n",
        "$$ T(\\dot{x},\\dot{y}) = \\frac{1}{2}m \\dot x ^2+ \\frac{1}{2}m \\dot y^2 $$\n",
        "\n",
        "E a energia potencial, com referencial no ponto fixo, é uma função apenas de $y$ do tipo:\n",
        "\n",
        "$$ V(y) = -mgy $$\n",
        "\n",
        "Assim, a Lagrangiana $\\mathcal{L}$ é dada por:\n",
        "\n",
        "$$ \\mathcal{L}(y,\\dot{x},\\dot{y}) = T(\\dot{x},\\dot{y}) - V(y) $$\n",
        "$$ \\mathcal{L}(y,\\dot{x},\\dot{y}) = \\frac{1}{2}m (\\dot x^2 + \\dot y^2) + mgy $$\n",
        "\n"
      ],
      "metadata": {
        "id": "7DoIbjhCFvXB"
      }
    },
    {
      "cell_type": "code",
      "source": [
        "# Definindo as variáveis do problema\n",
        "# Tempo \"t\", Comprimento \"L\", Massa \"m\", Gravidade \"g\", Altura \"h\"\n",
        "t, L, m, g, h = smp.symbols('t, L, m, g, h', real=True)\n",
        "# x e y -> Coordenadas não-generalizadas\n",
        "x, y = smp.symbols('x, y', cls=smp.Function)\n",
        "# Multiplicador de Lagrange\n",
        "lbda = smp.symbols('\\lambda',real=True)"
      ],
      "metadata": {
        "id": "sw10GHxbGFEU"
      },
      "execution_count": 2,
      "outputs": []
    },
    {
      "cell_type": "code",
      "source": [
        "# Criando os deslocamentos\n",
        "x = x(t)\n",
        "y = y(t)\n",
        "\n",
        "# Criando as velocidades\n",
        "xdot = smp.diff(x,t)\n",
        "ydot = smp.diff(y,t)\n",
        "\n",
        "# Criando as acelerações\n",
        "xddot = smp.diff(xdot,t)\n",
        "yddot = smp.diff(ydot,t)"
      ],
      "metadata": {
        "id": "0PiTI6gaGGuM"
      },
      "execution_count": 3,
      "outputs": []
    },
    {
      "cell_type": "code",
      "source": [
        "# Equação do vínculo holônomo\n",
        "cnstr = x**2 + y**2 - L**2\n",
        "cnstr"
      ],
      "metadata": {
        "colab": {
          "base_uri": "https://localhost:8080/",
          "height": 39
        },
        "id": "9fGGPjJ6GHw_",
        "outputId": "194b159a-5c65-4d66-a391-a72bff7ad336"
      },
      "execution_count": 4,
      "outputs": [
        {
          "output_type": "execute_result",
          "data": {
            "text/plain": [
              "-L**2 + x(t)**2 + y(t)**2"
            ],
            "text/latex": "$\\displaystyle - L^{2} + x^{2}{\\left(t \\right)} + y^{2}{\\left(t \\right)}$"
          },
          "metadata": {},
          "execution_count": 4
        }
      ]
    },
    {
      "cell_type": "code",
      "source": [
        "# Definindo a energia cinética\n",
        "T = (1/2)*m*(xdot**2 + ydot**2)\n",
        "# Definindo a energia potencial\n",
        "V = -m*g*y\n",
        "# Definindo a Lagrangiana\n",
        "Lag = T - V\n",
        "Lag"
      ],
      "metadata": {
        "colab": {
          "base_uri": "https://localhost:8080/",
          "height": 68
        },
        "id": "zMnq4fOqGr52",
        "outputId": "d1ce3bb3-3f43-48e6-dfa4-7683a1de2459"
      },
      "execution_count": 5,
      "outputs": [
        {
          "output_type": "execute_result",
          "data": {
            "text/plain": [
              "g*m*y(t) + 0.5*m*(Derivative(x(t), t)**2 + Derivative(y(t), t)**2)"
            ],
            "text/latex": "$\\displaystyle g m y{\\left(t \\right)} + 0.5 m \\left(\\left(\\frac{d}{d t} x{\\left(t \\right)}\\right)^{2} + \\left(\\frac{d}{d t} y{\\left(t \\right)}\\right)^{2}\\right)$"
          },
          "metadata": {},
          "execution_count": 5
        }
      ]
    },
    {
      "cell_type": "markdown",
      "source": [
        "Define-se então as Equações de Euler-Lagrange com multiplicador de Lagrange:\n",
        "\n",
        "* $k = 2$ coordenadas ($x$,$y$)\n",
        "* $p = 1$ vínculo\n",
        "\n",
        "$$ \\mathcal L(y,\\dot{x},\\dot{y}) = \\frac{1}{2}m (\\dot x^2 + \\dot y^2) + mgy $$\n",
        "\n",
        "* Para $q_1 = x~(k=1)$\n",
        "\n",
        "$$ a_{11} = \\frac{\\partial f}{\\partial x} = 2x $$\n",
        "\n",
        "$$\\frac{d}{dt}\\left(\\frac{\\partial \\mathcal{L}}{\\partial \\dot{x}}\\right) - \\frac{\\partial \\mathcal{L}}{\\partial x} + \\frac{\\partial \\mathcal{F}}{\\partial \\dot{x}} = 0$$\n",
        "\n",
        "$$ m\\ddot x =2 \\lambda x $$\n",
        "\n",
        "* Para $ q_2 = y~(k=2)$\n",
        "\n",
        "$$ a_{12} = \\frac{\\partial f}{\\partial y} = 2y $$\n",
        "\n",
        "$$\\frac{d}{dt}\\left(\\frac{\\partial \\mathcal{L}}{\\partial \\dot{y}}\\right) - \\frac{\\partial \\mathcal{L}}{\\partial y} + \\frac{\\partial \\mathcal{F}}{\\partial \\dot{y}} = 0$$\n",
        "\n",
        "$$ m\\ddot y = 2\\lambda y + mg $$"
      ],
      "metadata": {
        "id": "nw8nXqZNGvik"
      }
    },
    {
      "cell_type": "code",
      "source": [
        "a11 = smp.diff(cnstr,x)\n",
        "a12 = smp.diff(cnstr,y)"
      ],
      "metadata": {
        "id": "tGnVLWtcGs2d"
      },
      "execution_count": 6,
      "outputs": []
    },
    {
      "cell_type": "code",
      "source": [
        "# k = 1 -> q1 = x\n",
        "eq1 = (smp.diff(smp.diff(Lag,xdot),t) - smp.diff(Lag,x)) - lbda*a11\n",
        "eq1"
      ],
      "metadata": {
        "colab": {
          "base_uri": "https://localhost:8080/",
          "height": 54
        },
        "id": "b4QPCIWHHmhM",
        "outputId": "5943e098-f90d-4cc1-9795-cb8773256c9e"
      },
      "execution_count": 7,
      "outputs": [
        {
          "output_type": "execute_result",
          "data": {
            "text/plain": [
              "-2*\\lambda*x(t) + 1.0*m*Derivative(x(t), (t, 2))"
            ],
            "text/latex": "$\\displaystyle - 2 \\lambda x{\\left(t \\right)} + 1.0 m \\frac{d^{2}}{d t^{2}} x{\\left(t \\right)}$"
          },
          "metadata": {},
          "execution_count": 7
        }
      ]
    },
    {
      "cell_type": "code",
      "source": [
        "# k = 2 -> q2 = y\n",
        "eq2 = (smp.diff(smp.diff(Lag,ydot),t) - smp.diff(Lag,y)) - lbda*a12\n",
        "eq2"
      ],
      "metadata": {
        "colab": {
          "base_uri": "https://localhost:8080/",
          "height": 54
        },
        "id": "WIR6yaukHnnk",
        "outputId": "7c53e29a-b84b-45f0-c69b-75257b5c2a0e"
      },
      "execution_count": 8,
      "outputs": [
        {
          "output_type": "execute_result",
          "data": {
            "text/plain": [
              "-2*\\lambda*y(t) - g*m + 1.0*m*Derivative(y(t), (t, 2))"
            ],
            "text/latex": "$\\displaystyle - 2 \\lambda y{\\left(t \\right)} - g m + 1.0 m \\frac{d^{2}}{d t^{2}} y{\\left(t \\right)}$"
          },
          "metadata": {},
          "execution_count": 8
        }
      ]
    },
    {
      "cell_type": "markdown",
      "source": [
        "Obtém-se então 3 equações com 3 incógnitas $(x,y,\\lambda)$:\n",
        "\\begin{align*}\n",
        "m \\ddot{x} - 2 \\lambda x = 0 \\\\\n",
        "m \\ddot{y} - m g - 2 \\lambda y = 0 \\\\\n",
        "x^2 + y^2 - L^2 = 0 \\\\\n",
        "\\end{align*}\n",
        "\n",
        "Isola-se $\\ddot{x}$ na primeira equação:"
      ],
      "metadata": {
        "id": "ZoEoAVj8Ho-k"
      }
    },
    {
      "cell_type": "code",
      "source": [
        "xddot_ = smp.solve(eq1,xddot)[0]\n",
        "xddot_"
      ],
      "metadata": {
        "colab": {
          "base_uri": "https://localhost:8080/",
          "height": 53
        },
        "id": "xtXn0SimHs1D",
        "outputId": "165dda1a-a83f-406f-e3e2-4190b5aff39d"
      },
      "execution_count": 9,
      "outputs": [
        {
          "output_type": "execute_result",
          "data": {
            "text/plain": [
              "2.0*\\lambda*x(t)/m"
            ],
            "text/latex": "$\\displaystyle \\frac{2.0 \\lambda x{\\left(t \\right)}}{m}$"
          },
          "metadata": {},
          "execution_count": 9
        }
      ]
    },
    {
      "cell_type": "markdown",
      "source": [
        "E na sequência isolamos $\\ddot{y}$ na segunda equação:"
      ],
      "metadata": {
        "id": "DvXOWIfXHwhN"
      }
    },
    {
      "cell_type": "code",
      "source": [
        "yddot_ = smp.solve(eq2,yddot)[0]\n",
        "yddot_"
      ],
      "metadata": {
        "colab": {
          "base_uri": "https://localhost:8080/",
          "height": 53
        },
        "id": "cFcJranzHxrL",
        "outputId": "7946867a-2e82-4c85-da3b-c28d47857259"
      },
      "execution_count": 10,
      "outputs": [
        {
          "output_type": "execute_result",
          "data": {
            "text/plain": [
              "2.0*\\lambda*y(t)/m + g"
            ],
            "text/latex": "$\\displaystyle \\frac{2.0 \\lambda y{\\left(t \\right)}}{m} + g$"
          },
          "metadata": {},
          "execution_count": 10
        }
      ]
    },
    {
      "cell_type": "markdown",
      "source": [
        "Próximo passo é obter as derivadas primeira e segunda do vínculo em função do tempo $\\frac{d}{dt}f(x,y)$ e $\\frac{d^2}{dt^2}f(x,y)$:"
      ],
      "metadata": {
        "id": "znEIAu_xHy3z"
      }
    },
    {
      "cell_type": "code",
      "source": [
        "cnstr_dot = smp.diff(cnstr,t)\n",
        "cnstr_dot"
      ],
      "metadata": {
        "colab": {
          "base_uri": "https://localhost:8080/",
          "height": 52
        },
        "id": "4zUbGGWXHz7t",
        "outputId": "6c51d4c1-e9aa-47fc-aa11-1c8393b53055"
      },
      "execution_count": 11,
      "outputs": [
        {
          "output_type": "execute_result",
          "data": {
            "text/plain": [
              "2*x(t)*Derivative(x(t), t) + 2*y(t)*Derivative(y(t), t)"
            ],
            "text/latex": "$\\displaystyle 2 x{\\left(t \\right)} \\frac{d}{d t} x{\\left(t \\right)} + 2 y{\\left(t \\right)} \\frac{d}{d t} y{\\left(t \\right)}$"
          },
          "metadata": {},
          "execution_count": 11
        }
      ]
    },
    {
      "cell_type": "code",
      "source": [
        "cnstr_ddot = smp.diff(cnstr_dot,t)\n",
        "cnstr_ddot"
      ],
      "metadata": {
        "colab": {
          "base_uri": "https://localhost:8080/",
          "height": 61
        },
        "id": "eSizVo8WH05s",
        "outputId": "5b24bd5d-55c0-4dc1-d6f0-4b8b7a0ddc95"
      },
      "execution_count": 12,
      "outputs": [
        {
          "output_type": "execute_result",
          "data": {
            "text/plain": [
              "2*x(t)*Derivative(x(t), (t, 2)) + 2*y(t)*Derivative(y(t), (t, 2)) + 2*Derivative(x(t), t)**2 + 2*Derivative(y(t), t)**2"
            ],
            "text/latex": "$\\displaystyle 2 x{\\left(t \\right)} \\frac{d^{2}}{d t^{2}} x{\\left(t \\right)} + 2 y{\\left(t \\right)} \\frac{d^{2}}{d t^{2}} y{\\left(t \\right)} + 2 \\left(\\frac{d}{d t} x{\\left(t \\right)}\\right)^{2} + 2 \\left(\\frac{d}{d t} y{\\left(t \\right)}\\right)^{2}$"
          },
          "metadata": {},
          "execution_count": 12
        }
      ]
    },
    {
      "cell_type": "markdown",
      "source": [
        "Substituindo $\\ddot{x}$ e $\\ddot{y}$ na equação acima, conseguimos isolar o multiplicador de Lagrange $\\lambda$:"
      ],
      "metadata": {
        "id": "ywcucfMXH6Qk"
      }
    },
    {
      "cell_type": "code",
      "source": [
        "eq = 2*x*xddot_ + 2*y*yddot_ + 2*xdot**2 + 2*ydot**2\n",
        "lbda_ = smp.solve(eq,lbda)[0]\n",
        "lbda_"
      ],
      "metadata": {
        "colab": {
          "base_uri": "https://localhost:8080/",
          "height": 70
        },
        "id": "5DeLtkWqH2Ok",
        "outputId": "33a00f6f-deab-45dc-cc74-469a342ca5b1"
      },
      "execution_count": 13,
      "outputs": [
        {
          "output_type": "execute_result",
          "data": {
            "text/plain": [
              "0.5*m*(-g*y(t) - Derivative(x(t), t)**2 - Derivative(y(t), t)**2)/(x(t)**2 + y(t)**2)"
            ],
            "text/latex": "$\\displaystyle \\frac{0.5 m \\left(- g y{\\left(t \\right)} - \\left(\\frac{d}{d t} x{\\left(t \\right)}\\right)^{2} - \\left(\\frac{d}{d t} y{\\left(t \\right)}\\right)^{2}\\right)}{x^{2}{\\left(t \\right)} + y^{2}{\\left(t \\right)}}$"
          },
          "metadata": {},
          "execution_count": 13
        }
      ]
    },
    {
      "cell_type": "markdown",
      "source": [
        "Reescrevendo:\n",
        "$$\\lambda = \\frac{-m(gy + \\dot{x}^2 + \\dot{y}^2)}{2(x^2+y^2)} = \\frac{-m(gy + \\dot{x}^2 + \\dot{y}^2)}{2L^2}$$"
      ],
      "metadata": {
        "id": "jdYGqPaSH87T"
      }
    },
    {
      "cell_type": "markdown",
      "source": [
        "Com este $\\lambda$ podemos substituí-lo nas equações $\\hspace{3pt} \\ddot{x} = \\frac{2 \\lambda x}{m} \\hspace{3pt} $ e $\\hspace{3pt} \\ddot{y} = \\frac{2 \\lambda y}{m} + g \\hspace{3pt} $ e obter estas variáveis em função apenas de $x,y,\\dot{x},\\dot{y}$:\n",
        "\n",
        "$$ \\ddot x = -\\frac{x}{L^2}(\\dot x^2 + \\dot y^2 + gy) $$\n",
        "\n",
        "$$ \\ddot y = \\frac{gx^2 - y(\\dot{x}^2 + \\dot{y}^2)}{L^2}$$"
      ],
      "metadata": {
        "id": "eTy1PpxLH-EF"
      }
    },
    {
      "cell_type": "code",
      "source": [
        "# Substituindo este lambda nas eq1 e eq2\n",
        "xddot__ = smp.solve(eq1.subs(lbda,lbda_),xddot)[0]\n",
        "xddot__"
      ],
      "metadata": {
        "colab": {
          "base_uri": "https://localhost:8080/",
          "height": 70
        },
        "id": "v8ibQb2aIKn_",
        "outputId": "62ff0dd5-3013-4540-a056-8990f5cea330"
      },
      "execution_count": 14,
      "outputs": [
        {
          "output_type": "execute_result",
          "data": {
            "text/plain": [
              "(-g*y(t) - Derivative(x(t), t)**2 - Derivative(y(t), t)**2)*x(t)/(x(t)**2 + y(t)**2)"
            ],
            "text/latex": "$\\displaystyle \\frac{\\left(- g y{\\left(t \\right)} - \\left(\\frac{d}{d t} x{\\left(t \\right)}\\right)^{2} - \\left(\\frac{d}{d t} y{\\left(t \\right)}\\right)^{2}\\right) x{\\left(t \\right)}}{x^{2}{\\left(t \\right)} + y^{2}{\\left(t \\right)}}$"
          },
          "metadata": {},
          "execution_count": 14
        }
      ]
    },
    {
      "cell_type": "code",
      "source": [
        "yddot__ = smp.solve(eq2.subs(lbda,lbda_),yddot)[0]\n",
        "yddot__"
      ],
      "metadata": {
        "colab": {
          "base_uri": "https://localhost:8080/",
          "height": 64
        },
        "id": "JXrjZ2aiIL4U",
        "outputId": "39abb739-6820-413b-c771-ffab53dcabec"
      },
      "execution_count": 15,
      "outputs": [
        {
          "output_type": "execute_result",
          "data": {
            "text/plain": [
              "(g*x(t)**2 - y(t)*Derivative(x(t), t)**2 - y(t)*Derivative(y(t), t)**2)/(x(t)**2 + y(t)**2)"
            ],
            "text/latex": "$\\displaystyle \\frac{g x^{2}{\\left(t \\right)} - y{\\left(t \\right)} \\left(\\frac{d}{d t} x{\\left(t \\right)}\\right)^{2} - y{\\left(t \\right)} \\left(\\frac{d}{d t} y{\\left(t \\right)}\\right)^{2}}{x^{2}{\\left(t \\right)} + y^{2}{\\left(t \\right)}}$"
          },
          "metadata": {},
          "execution_count": 15
        }
      ]
    },
    {
      "cell_type": "markdown",
      "source": [
        "Assim podemos construir uma função para resolver via Runge-Kutta com condições iniciais similares a $\\theta = 60^{\\circ}$:"
      ],
      "metadata": {
        "id": "ArEHmA5qIONa"
      }
    },
    {
      "cell_type": "code",
      "source": [
        "# Parâmetros do sistema\n",
        "g = 9.81  # aceleração da gravidade\n",
        "L = 1.0   # comprimento do pêndulo\n",
        "\n",
        "# Intervalo de tempo para integração\n",
        "t_start = 0.0\n",
        "t_end = 2*np.pi*np.sqrt(L/g) # plotando um período\n",
        "t_step = 0.001\n",
        "t_span = np.arange(t_start, t_end, t_step)\n",
        "\n",
        "# Ângulo inicial = 60°\n",
        "theta0 = 60/180*np.pi\n",
        "\n",
        "## LAGRANGE --------------------------------------------------------\n",
        "def pendulum_lag(z, t):\n",
        "    z1 = z[0] # x\n",
        "    z2 = z[1] # dx\n",
        "    z3 = z[2] # y\n",
        "    z4 = z[3] # dy\n",
        "    dz1_dt = z2\n",
        "    dz2_dt = - z1 * (g * z3 + z2**2 + z4**2) / (z1**2 + z3**2)\n",
        "    dz3_dt = z4\n",
        "    dz4_dt = (g * z1**2 - z3 * z2**2 - z3 * z4**2) / (z1**2 + z3**2)\n",
        "    return [dz1_dt, dz2_dt, dz3_dt, dz4_dt]\n",
        "\n",
        "# Condições iniciais\n",
        "z0 = [L*np.sin(theta0), 0.0, L*np.cos(theta0), 0.0]  # dx(0),ddx(0),dy(0),ddy(0)\n",
        "\n",
        "# Resolvendo o sistema de equações diferenciais\n",
        "solution = odeint(pendulum_lag, z0, t_span)\n",
        "\n",
        "# Obtendo as soluções para z1, z2, z3 e z4\n",
        "x_sol = solution[:, 0]\n",
        "y_sol = solution[:, 2]\n",
        "\n",
        "\n",
        "## TRADICIONAL --------------------------------------------------------\n",
        "def pendulum_an(z, t):\n",
        "    theta = z[0]\n",
        "    dtheta = z[1]\n",
        "    dz1_dt = dtheta\n",
        "    dz2_dt = -g/L*np.sin(theta)\n",
        "    return [dz1_dt, dz2_dt]\n",
        "\n",
        "# Condições iniciais\n",
        "z0 = [theta0, 0.0]  # theta(0), dtheta(0)\n",
        "\n",
        "# Resolvendo o sistema de equações diferenciais\n",
        "solution_an = odeint(pendulum_an, z0, t_span)\n",
        "\n",
        "# Obtendo as soluções para z1, z2\n",
        "x_sol_an = L*np.sin(solution_an[:, 0])\n",
        "y_sol_an = L*np.cos(solution_an[:, 0])"
      ],
      "metadata": {
        "id": "THf-itVqIPuL"
      },
      "execution_count": 16,
      "outputs": []
    },
    {
      "cell_type": "markdown",
      "source": [
        "E assim obtemos a solução do pêndulo simples parametrizado com $x$ e $y$ via Multiplicadores de Lagrange:"
      ],
      "metadata": {
        "id": "N6S1RXwUISAL"
      }
    },
    {
      "cell_type": "code",
      "source": [
        "# Plotando as soluções\n",
        "plt.figure(figsize=(10, 8))\n",
        "plt.plot(x_sol, -y_sol, linestyle='-', color='lime', linewidth=4, label=r'$\\mathcal{L}$')\n",
        "plt.plot(x_sol_an, -y_sol_an, linestyle=':', color='black', linewidth=2, label=r'$\\theta$')\n",
        "plt.xlabel('$x$')\n",
        "plt.ylabel('$y$')\n",
        "plt.title('Pêndulo - Multiplicadores de Lagrange')\n",
        "plt.legend()\n",
        "plt.grid(True)\n",
        "plt.xlim(-1.0,1.0)\n",
        "plt.ylim(-1.0,0.0)\n",
        "plt.axis()\n",
        "ax = plt.gca()\n",
        "ax.set_aspect('equal', adjustable='box')\n",
        "plt.show()"
      ],
      "metadata": {
        "colab": {
          "base_uri": "https://localhost:8080/",
          "height": 513
        },
        "id": "g32tdJnzISkc",
        "outputId": "8e7601de-2106-4871-b3c3-e68c57026a74"
      },
      "execution_count": 17,
      "outputs": [
        {
          "output_type": "display_data",
          "data": {
            "text/plain": [
              "<Figure size 1000x800 with 1 Axes>"
            ],
            "image/png": "[encoded data removed]"
          },
          "metadata": {}
        }
      ]
    },
    {
      "cell_type": "markdown",
      "source": [
        "## **1.2. Princípio de Hamilton**"
      ],
      "metadata": {
        "id": "NnWvnW_DCQj9"
      }
    },
    {
      "cell_type": "markdown",
      "source": [
        "O Princípio de Hamilton é dado por:\n",
        "$$\\int_{t_1}^{t_2}\\sum_{k=1}^{N}\\left[\\frac{\\partial \\mathcal{L}}{\\partial q_k} - \\frac{d}{dt}\\left(\\frac{\\partial \\mathcal{L}}{\\partial \\dot{q}_k}\\right)\\delta q_k\\right] = 0$$"
      ],
      "metadata": {
        "id": "zA-CwW2DKSLk"
      }
    },
    {
      "cell_type": "markdown",
      "source": [
        "### **1.2.1. Parametrizando por $\\theta$**"
      ],
      "metadata": {
        "id": "HMVu5n1iCc2c"
      }
    },
    {
      "cell_type": "markdown",
      "source": [
        "Sabe-se que as energias cinética e potencial desse sistema são dadas por:\n",
        "\n",
        "* **Cinética:**\n",
        "\n",
        "$$ T(\\dot{\\theta}) = \\frac{1}{2} m {v_m}^2 = \\frac{1}{2} m \\dot{\\theta}^2 L^2 $$\n",
        "em que $v_m$ é a velocidade tangencial da massa $m$.\n",
        "\n",
        "* **Potencial:**\n",
        "\n",
        "$$ V(\\theta) = - m g h = -mgL\\cos(\\theta)$$\n",
        "\n",
        "Calculando-se a Lagrangina $\\mathcal{L}$, obtém-se:\n",
        "\n",
        "$$ \\mathcal{L}(\\theta,\\dot{\\theta}) = T(\\dot{\\theta}) - V(\\theta)$$\n",
        "\n",
        "$$\\mathcal{L}(\\theta,\\dot{\\theta}) = \\frac{1}{2} m \\dot{\\theta}^2 L^2 + mgL\\cos(\\theta)$$"
      ],
      "metadata": {
        "id": "nc0hD0DVJ3vb"
      }
    },
    {
      "cell_type": "markdown",
      "source": [
        "O Princípio de Hamilton é dado por:\n",
        "$$\\delta S = \\int_{t_1}^{t_2}\\sum_{k=1}^{N}\\left[\\frac{\\partial \\mathcal{L}}{\\partial q_k} - \\frac{d}{dt}\\left(\\frac{\\partial \\mathcal{L}}{\\partial \\dot{q}_k}\\right)\\delta q_k\\right]dt = 0$$\n",
        "\n",
        "Parametrizando pela coordenada generalizada $\\theta$, temos que $N = 1$. Assim, o princípio pode ser reescrito como:\n",
        "\n",
        "$$\\delta S = \\int_{t_1}^{t_2}\\left[\\frac{\\partial \\mathcal{L}}{\\partial q_1} - \\frac{d}{dt}\\left(\\frac{\\partial \\mathcal{L}}{\\partial \\dot{q}_1}\\right)\\delta q_1\\right]dt = 0$$\n",
        "\n",
        "Para que isso seja garantido, $\\delta q_1 = 0$ ou $\\frac{\\partial \\mathcal{L}}{\\partial q_1} - \\frac{d}{dt}\\left(\\frac{\\partial \\mathcal{L}}{\\partial \\dot{q}_1}\\right)=0$.\n",
        "\n",
        "Assim, optamos pela segunda, substituindo $q_1$ por $q_\\theta$:\n",
        "\n",
        "$$ \\frac{\\partial \\mathcal{L}}{\\partial q_{\\theta}} - \\frac{d}{dt}\\left (\\frac{\\partial \\mathcal{L}}{\\partial \\dot{q}_\\theta} \\right ) = 0 $$\n",
        "onde,\n",
        "\n",
        "$$ \\frac{\\partial \\mathcal{L}}{\\partial q_{\\theta}} = -mgL\\sin(\\theta)$$\n",
        "\n",
        "$$ \\frac{d}{dt}\\left (\\frac{\\partial \\mathcal{L}}{\\partial \\dot{q}_\\theta} \\right ) = m\\ddot{\\theta}L^2 $$\n",
        "então,\n",
        "\n",
        "$$ \\frac{\\partial \\mathcal{L}}{\\partial q_{\\theta}} - \\frac{d}{dt}\\left (\\frac{\\partial \\mathcal{L}}{\\partial \\dot{q}_\\theta} \\right ) = -m\\ddot{\\theta}L^2 - mgL\\sin(\\theta) = 0 $$\n",
        "\n",
        "$$ m\\ddot{\\theta}L^2 + mgL\\sin(\\theta) = 0 ~~\\div mL^2$$\n",
        "\n",
        "$$\\therefore~~\\boxed{\\ddot{\\theta} + \\frac{g}{L}\\sin(\\theta) = 0}$$\n",
        "que é a mesma equação do pêndulo encontrada pela mecânica newtoniana."
      ],
      "metadata": {
        "id": "3UrR_F3rJ7zF"
      }
    },
    {
      "cell_type": "markdown",
      "source": [
        "### **1.2.2. Parametrizando por $x$ e $y$**"
      ],
      "metadata": {
        "id": "ioh4wwxwCmok"
      }
    },
    {
      "cell_type": "code",
      "source": [
        "# Definindo as variáveis do problema\n",
        "# Tempo \"t\", Comprimento \"L\", Massa \"m\", Gravidade \"g\"\n",
        "t, L, m, g = smp.symbols('t, L, m, g', real=True)\n",
        "# x e y -> Coordenadas não-generalizadas\n",
        "x, y = smp.symbols('x, y', cls=smp.Function)\n",
        "# deltax e deltay -> deslocamentos virtuais\n",
        "deltax, deltay = smp.symbols('\\delta_x, \\delta_y',real=True)"
      ],
      "metadata": {
        "id": "gT4tERPCKj_o"
      },
      "execution_count": 18,
      "outputs": []
    },
    {
      "cell_type": "code",
      "source": [
        "# Criando os deslocamentos\n",
        "x = x(t)\n",
        "y = y(t)\n",
        "\n",
        "# Criando as velocidades\n",
        "xdot = smp.diff(x,t)\n",
        "ydot = smp.diff(y,t)\n",
        "\n",
        "# Criando as acelerações\n",
        "xddot = smp.diff(xdot,t)\n",
        "yddot = smp.diff(ydot,t)"
      ],
      "metadata": {
        "id": "nVH7Fk9TKnKr"
      },
      "execution_count": 19,
      "outputs": []
    },
    {
      "cell_type": "markdown",
      "source": [
        "A vinculação já apresentada é do tipo holônoma:\n",
        "\n",
        "$$f(x,y) = x^2 + y^2 - L^2 = 0$$"
      ],
      "metadata": {
        "id": "MBjnBPLWCDfY"
      }
    },
    {
      "cell_type": "code",
      "source": [
        "# Vínculo holônomo\n",
        "cnstr = x**2 + y**2 - L**2\n",
        "cnstr"
      ],
      "metadata": {
        "colab": {
          "base_uri": "https://localhost:8080/",
          "height": 39
        },
        "id": "pju-zjsXKoMM",
        "outputId": "687905ee-cfde-42b4-fac1-feb2fedc7182"
      },
      "execution_count": 20,
      "outputs": [
        {
          "output_type": "execute_result",
          "data": {
            "text/plain": [
              "-L**2 + x(t)**2 + y(t)**2"
            ],
            "text/latex": "$\\displaystyle - L^{2} + x^{2}{\\left(t \\right)} + y^{2}{\\left(t \\right)}$"
          },
          "metadata": {},
          "execution_count": 20
        }
      ]
    },
    {
      "cell_type": "markdown",
      "source": [
        "Já se sabe também que a Lagrangiana em função de $x$ e $y$ é dada por:\n",
        "\n",
        "$$\\mathcal{L}(y,\\dot{x},\\dot{y}) = \\frac{1}{2}m(\\dot{x}^2 + \\dot{y}^2) + mgy$$"
      ],
      "metadata": {
        "id": "gJrYbSw_CO86"
      }
    },
    {
      "cell_type": "code",
      "source": [
        "# Definindo a energia cinética\n",
        "T = (1/2)*m*(xdot**2 + ydot**2)\n",
        "# Definindo a energia potencial\n",
        "V = -m*g*y\n",
        "# Definindo a Lagrangiana\n",
        "Lag = T - V\n",
        "Lag"
      ],
      "metadata": {
        "colab": {
          "base_uri": "https://localhost:8080/",
          "height": 68
        },
        "id": "JhpQkj-HCQS6",
        "outputId": "76a6b0d6-ef21-40a7-cac3-b8e13d6b168c"
      },
      "execution_count": 21,
      "outputs": [
        {
          "output_type": "execute_result",
          "data": {
            "text/plain": [
              "g*m*y(t) + 0.5*m*(Derivative(x(t), t)**2 + Derivative(y(t), t)**2)"
            ],
            "text/latex": "$\\displaystyle g m y{\\left(t \\right)} + 0.5 m \\left(\\left(\\frac{d}{d t} x{\\left(t \\right)}\\right)^{2} + \\left(\\frac{d}{d t} y{\\left(t \\right)}\\right)^{2}\\right)$"
          },
          "metadata": {},
          "execution_count": 21
        }
      ]
    },
    {
      "cell_type": "markdown",
      "source": [
        "Na sequência desenvolvemos o pêndulo pelo Princípio de Hamilton até obtermos uma expressão que relacione $\\delta x$ e $\\delta y$:\n",
        "\n",
        "$$\\delta S = \\delta \\int_{t_1}^{t_2} \\mathcal{L} dt = 0$$\n",
        "\n",
        "$$\\delta S = \\int_{t_1}^{t_2} \\left(\\frac{\\partial\\mathcal{L}}{\\partial x}\\delta x + \\frac{\\partial\\mathcal{L}}{\\partial \\dot{x}}\\delta \\dot{x} + \\frac{\\partial\\mathcal{L}}{\\partial y}\\delta y + \\frac{\\partial\\mathcal{L}}{\\partial \\dot{y}}\\delta \\dot{y}\\right) dt = 0$$\n",
        "\n",
        "$$\\delta S = \\int_{t_1}^{t_2} \\left[\\left(\\frac{\\partial\\mathcal{L}}{\\partial x} - \\frac{d}{dt}\\frac{\\partial\\mathcal{L}}{\\partial \\dot{x}}\\right)\\delta x + \\left(\\frac{\\partial\\mathcal{L}}{\\partial y} - \\frac{d}{dt}\\frac{\\partial\\mathcal{L}}{\\partial \\dot{y}}\\right)\\delta y\\right] dt = 0$$\n",
        "\n",
        "$$\\frac{\\partial\\mathcal{L}}{\\partial x} = 0~,~~\\frac{\\partial\\mathcal{L}}{\\partial y} = mg~,~~\\frac{\\partial\\mathcal{L}}{\\partial \\dot{x}} = m\\dot{x}~,~~\\frac{\\partial\\mathcal{L}}{\\partial \\dot{y}} = m\\dot{y}$$\n",
        "\n",
        "$$\\delta S = \\int_{t_1}^{t_2} \\left[-m\\ddot{x}\\delta x + \\left(mg - m\\ddot{y}\\right)\\delta y\\right] dt = 0$$\n",
        "\n",
        "$$-m\\ddot{x}\\delta x + \\left(mg - m\\ddot{y}\\right)\\delta y = 0 ~~\\div m$$\n",
        "\n",
        "$$\\boxed{-\\ddot{x}\\delta x + \\left(g - \\ddot{y}\\right)\\delta y = 0}$$"
      ],
      "metadata": {
        "id": "KShmk8p6EFr4"
      }
    },
    {
      "cell_type": "code",
      "source": [
        "# Principio de Hamilton\n",
        "dLdx = smp.diff(Lag,x)\n",
        "dLdxdot = smp.diff(Lag,xdot)\n",
        "dLdy = smp.diff(Lag,y)\n",
        "dLdydot = smp.diff(Lag,ydot)\n",
        "\n",
        "Ham_x = dLdx - smp.diff(dLdxdot,t)\n",
        "Ham_y = dLdy - smp.diff(dLdydot,t)\n",
        "Ham = smp.simplify(Ham_x*deltax + Ham_y*deltay)\n",
        "Ham"
      ],
      "metadata": {
        "colab": {
          "base_uri": "https://localhost:8080/",
          "height": 58
        },
        "id": "KebYTf-0EGr5",
        "outputId": "491a55ea-e57c-42fb-d1cc-883d55b5a70e"
      },
      "execution_count": 22,
      "outputs": [
        {
          "output_type": "execute_result",
          "data": {
            "text/plain": [
              "m*(-1.0*\\delta_x*Derivative(x(t), (t, 2)) + \\delta_y*(g - 1.0*Derivative(y(t), (t, 2))))"
            ],
            "text/latex": "$\\displaystyle m \\left(- 1.0 \\delta_{x} \\frac{d^{2}}{d t^{2}} x{\\left(t \\right)} + \\delta_{y} \\left(g - 1.0 \\frac{d^{2}}{d t^{2}} y{\\left(t \\right)}\\right)\\right)$"
          },
          "metadata": {},
          "execution_count": 22
        }
      ]
    },
    {
      "cell_type": "markdown",
      "source": [
        "Na sequência devemos garantir que o somatório abaixo é verdadeiro. E para isso, devemos calcular os termos $a_{lk}$ que são derivadas parciais do vínculo em relação às coordenadas não-generalizadas. No fim, encontraremos a relação direta entre $\\delta x$ e $\\delta y$.\n",
        "\n",
        "$$\\sum_{k=1}^{n}a_{lk}\\delta q_k = 0~,~~l=1,~k=2$$\n",
        "\n",
        "$$a_{11} \\delta q_1 + a_{12} \\delta q_2 = 0$$\n",
        "\n",
        "$$q_1 = x \\Rightarrow a_{11} = \\frac{\\partial f}{\\partial x} = 2x$$\n",
        "$$q_2 = y \\Rightarrow a_{12} = \\frac{\\partial f}{\\partial y} = 2y$$\n",
        "\n",
        "$$2x \\delta x + 2y \\delta y = 0$$\n",
        "\n",
        "$$\\therefore~~\\boxed{\\delta y = -\\frac{x}{y}\\delta x}$$"
      ],
      "metadata": {
        "id": "RU20eJLFC9gK"
      }
    },
    {
      "cell_type": "code",
      "source": [
        "# Calculando o somatório\n",
        "a11 = smp.diff(cnstr,x)\n",
        "a12 = smp.diff(cnstr,y)\n",
        "\n",
        "sum_alk = a11*deltax + a12*deltay\n",
        "deltay_ = smp.solve(sum_alk,deltay)[0]\n",
        "deltay_"
      ],
      "metadata": {
        "colab": {
          "base_uri": "https://localhost:8080/",
          "height": 57
        },
        "id": "JsLMvBmeC-Ug",
        "outputId": "cc1bb1be-1a26-4721-ed86-4ed5f2075a6a"
      },
      "execution_count": 23,
      "outputs": [
        {
          "output_type": "execute_result",
          "data": {
            "text/plain": [
              "-\\delta_x*x(t)/y(t)"
            ],
            "text/latex": "$\\displaystyle - \\frac{\\delta_{x} x{\\left(t \\right)}}{y{\\left(t \\right)}}$"
          },
          "metadata": {},
          "execution_count": 23
        }
      ]
    },
    {
      "cell_type": "markdown",
      "source": [
        "Substituindo a devida relação na equação obtida anteriormente, podemos obter a expressão do movimento para $\\ddot{x}$.\n",
        "\n",
        "$$-\\ddot{x}\\delta x - \\left(g - \\ddot{y}\\right)\\left(\\frac{x}{y}\\right)\\delta x = 0$$\n",
        "\n",
        "$$\\left[-\\ddot{x} - \\left(g - \\ddot{y}\\right)\\left(\\frac{x}{y}\\right)\\right]\\delta x = 0$$\n",
        "\n",
        "$$-\\ddot{x} - \\left(g - \\ddot{y}\\right)\\left(\\frac{x}{y}\\right) = 0 ~~ \\times y$$\n",
        "\n",
        "$$-\\ddot{x}y - \\left(g - \\ddot{y}\\right)x = 0$$\n",
        "\n",
        "$$\\boxed{\\ddot{x}=\\frac{- \\left(g - \\ddot{y}\\right)x}{y} = 0}$$"
      ],
      "metadata": {
        "id": "Jq8ZSQw4DihC"
      }
    },
    {
      "cell_type": "code",
      "source": [
        "equation = Ham.subs(deltay,deltay_)\n",
        "equation = equation.subs(deltax,1)\n",
        "equation_simp = smp.solve(equation,xddot)[0]\n",
        "equation_simp"
      ],
      "metadata": {
        "colab": {
          "base_uri": "https://localhost:8080/",
          "height": 70
        },
        "id": "QKTgi5XcD3z4",
        "outputId": "b6f347de-3000-4ee5-f153-7247c1513bf9"
      },
      "execution_count": 24,
      "outputs": [
        {
          "output_type": "execute_result",
          "data": {
            "text/plain": [
              "(-g + Derivative(y(t), (t, 2)))*x(t)/y(t)"
            ],
            "text/latex": "$\\displaystyle \\frac{\\left(- g + \\frac{d^{2}}{d t^{2}} y{\\left(t \\right)}\\right) x{\\left(t \\right)}}{y{\\left(t \\right)}}$"
          },
          "metadata": {},
          "execution_count": 24
        }
      ]
    },
    {
      "cell_type": "markdown",
      "source": [
        "Com o intuito de se substituir $\\ddot{y}$ na equação acima, utilizamos a já conhecido equação de vínculo para se obter uma expressão que seja exclusivamente função de $x$.\n",
        "\n",
        "$$y = \\sqrt{L^2 - x^2}$$\n",
        "\n",
        "$$\\dot{y} = -\\frac{x \\dot{x}}{\\sqrt{L^2 - x^2}}$$\n",
        "\n",
        "$$\\ddot{y} = \\frac{- L^{2} x \\ddot{x} - L^{2} \\dot{x}^{2} + x^{3} \\ddot{x}}{\\left(L^{2} - x^{2}\\right)^{\\frac{3}{2}}}$$"
      ],
      "metadata": {
        "id": "HHIO61VyEv6x"
      }
    },
    {
      "cell_type": "code",
      "source": [
        "y_ = smp.solve(cnstr,y)[1]\n",
        "y_dot = smp.diff(y_,t)\n",
        "y_ddot = smp.simplify(smp.diff(y_dot,t))\n",
        "y_ddot"
      ],
      "metadata": {
        "colab": {
          "base_uri": "https://localhost:8080/",
          "height": 69
        },
        "id": "R6fDwIRpE9Tp",
        "outputId": "59b31c80-967f-4210-f8d8-f72c06a7ba6e"
      },
      "execution_count": 25,
      "outputs": [
        {
          "output_type": "execute_result",
          "data": {
            "text/plain": [
              "(-L**2*x(t)*Derivative(x(t), (t, 2)) - L**2*Derivative(x(t), t)**2 + x(t)**3*Derivative(x(t), (t, 2)))/(L**2 - x(t)**2)**(3/2)"
            ],
            "text/latex": "$\\displaystyle \\frac{- L^{2} x{\\left(t \\right)} \\frac{d^{2}}{d t^{2}} x{\\left(t \\right)} - L^{2} \\left(\\frac{d}{d t} x{\\left(t \\right)}\\right)^{2} + x^{3}{\\left(t \\right)} \\frac{d^{2}}{d t^{2}} x{\\left(t \\right)}}{\\left(L^{2} - x^{2}{\\left(t \\right)}\\right)^{\\frac{3}{2}}}$"
          },
          "metadata": {},
          "execution_count": 25
        }
      ]
    },
    {
      "cell_type": "markdown",
      "source": [
        "Substituindo esse $\\ddot{y}$ na equação anterior, podemos obter uma função exclusivamente em função de $x$."
      ],
      "metadata": {
        "id": "yNX-kh3gGOxb"
      }
    },
    {
      "cell_type": "code",
      "source": [
        "x_ddot = smp.solve(equation_simp.subs(yddot,y_ddot),xddot)[0]\n",
        "x_ddot"
      ],
      "metadata": {
        "colab": {
          "base_uri": "https://localhost:8080/",
          "height": 66
        },
        "id": "ziP1Ch8QGQKg",
        "outputId": "50ce7984-906d-400a-9868-462e82a96aea"
      },
      "execution_count": 26,
      "outputs": [
        {
          "output_type": "execute_result",
          "data": {
            "text/plain": [
              "(-L**2*Derivative(x(t), t)**2 - g*(L**2 - x(t)**2)**(3/2))/((L**2 - x(t)**2)*x(t))"
            ],
            "text/latex": "$\\displaystyle \\frac{- L^{2} \\left(\\frac{d}{d t} x{\\left(t \\right)}\\right)^{2} - g \\left(L^{2} - x^{2}{\\left(t \\right)}\\right)^{\\frac{3}{2}}}{\\left(L^{2} - x^{2}{\\left(t \\right)}\\right) x{\\left(t \\right)}}$"
          },
          "metadata": {},
          "execution_count": 26
        }
      ]
    },
    {
      "cell_type": "markdown",
      "source": [
        "E, finalmente pode-se plotar a trajetória.\n",
        "\n",
        "Mas, temos um grande porém. Por questões algébricas, para valores negativos de $x$ a integração falha, e por esse motivo só se pode obter metade da trajetória. **Este é um problema ao se parametrizar com coordenadas não-generalizadas.**"
      ],
      "metadata": {
        "id": "oS9Jbgz1GV0S"
      }
    },
    {
      "cell_type": "code",
      "source": [
        "# Parâmetros do sistema\n",
        "g = 9.81  # aceleração da gravidade\n",
        "L = 1.0   # comprimento do pêndulo\n",
        "\n",
        "# Intervalo de tempo para integração\n",
        "t_start = 0.0\n",
        "t_end = 2*np.pi*np.sqrt(L/g) # plotando um período\n",
        "t_step = 0.001\n",
        "t_span = np.arange(t_start, t_end, t_step)\n",
        "\n",
        "# Ângulo inicial = 60°\n",
        "theta0 = 60/180*np.pi\n",
        "\n",
        "## HAMILTON --------------------------------------------------------\n",
        "def pendulum_ham(z, t):\n",
        "    x = z[0]\n",
        "    dx = z[1]\n",
        "    dz1dt = dx\n",
        "    dz2dt = -L**2*g*np.sqrt(L**2 - x**2)/(L**2*x - x**3) - L**2*dx**2/(L**2*x - x**3) + g*np.sqrt(L**2 - x**2)*x**2/(L**2*x - x**3)\n",
        "    return [dz1dt, dz2dt]\n",
        "\n",
        "# Condições iniciais\n",
        "z0 = [L*np.sin(theta0), 0.0]  # x(0), dx(0)\n",
        "\n",
        "# Resolvendo o sistema de equações diferenciais\n",
        "solution = odeint(pendulum_ham, z0, t_span)\n",
        "\n",
        "# Obtendo as soluções\n",
        "x_sol = solution[:, 0]\n",
        "# y_sol = solution[:, 1]\n",
        "y_sol = np.sqrt(L**2 - x_sol**2)\n",
        "\n",
        "## TRADICIONAL --------------------------------------------------------\n",
        "def pendulum_an(z, t):\n",
        "    theta = z[0]\n",
        "    dtheta = z[1]\n",
        "    dz1_dt = dtheta\n",
        "    dz2_dt = -g/L*np.sin(theta)\n",
        "    return [dz1_dt, dz2_dt]\n",
        "\n",
        "# Condições iniciais\n",
        "z0 = [theta0, 0.0]  # theta(0), dtheta(0)\n",
        "\n",
        "# Resolvendo o sistema de equações diferenciais\n",
        "solution_an = odeint(pendulum_an, z0, t_span)\n",
        "\n",
        "# Obtendo as soluções para z1, z2\n",
        "x_sol_an = L*np.sin(solution_an[:, 0])\n",
        "y_sol_an = L*np.cos(solution_an[:, 0])\n",
        "\n",
        "# Plotando as soluções\n",
        "plt.figure(figsize=(10, 8))\n",
        "plt.plot(x_sol, -y_sol, linestyle='-', color='lime', linewidth=4, label=r'$\\mathcal{H}$')\n",
        "plt.plot(x_sol_an, -y_sol_an, linestyle=':', color='black', linewidth=2, label=r'$\\theta$')\n",
        "plt.xlabel('$x$')\n",
        "plt.ylabel('$y$')\n",
        "plt.title('Pêndulo - Princípio de Hamilton')\n",
        "plt.legend()\n",
        "plt.grid(True)\n",
        "plt.xlim(-1.0,1.0)\n",
        "plt.ylim(-1.0,0.0)\n",
        "plt.axis()\n",
        "ax = plt.gca()\n",
        "ax.set_aspect('equal', adjustable='box')\n",
        "plt.show()"
      ],
      "metadata": {
        "colab": {
          "base_uri": "https://localhost:8080/",
          "height": 637
        },
        "id": "Q9mTFR2-G15g",
        "outputId": "1708abe2-ec20-42f1-99e1-094ade7f8010"
      },
      "execution_count": 27,
      "outputs": [
        {
          "output_type": "stream",
          "name": "stderr",
          "text": [
            "/usr/local/lib/python3.10/dist-packages/scipy/integrate/_odepack_py.py:248: ODEintWarning: Excess work done on this call (perhaps wrong Dfun type). Run with full_output = 1 to get quantitative information.\n",
            "  warnings.warn(warning_msg, ODEintWarning)\n",
            "<ipython-input-27-a6263abd6491>:31: RuntimeWarning: overflow encountered in square\n",
            "  y_sol = np.sqrt(L**2 - x_sol**2)\n",
            "<ipython-input-27-a6263abd6491>:31: RuntimeWarning: invalid value encountered in sqrt\n",
            "  y_sol = np.sqrt(L**2 - x_sol**2)\n"
          ]
        },
        {
          "output_type": "display_data",
          "data": {
            "text/plain": [
              "<Figure size 1000x800 with 1 Axes>"
            ],
            "image/png": "[encoded data removed]"
          },
          "metadata": {}
        }
      ]
    },
    {
      "cell_type": "markdown",
      "source": [
        "## **1.3. Equações de Voronec**"
      ],
      "metadata": {
        "id": "td0Hr2OmCqPE"
      }
    },
    {
      "cell_type": "markdown",
      "source": [
        "* A energia **cinética** é dada por:\n",
        "$$ T(\\dot{x},\\dot{y}) = \\frac{1}{2}m \\dot x ^2+ \\frac{1}{2}m \\dot y^2 $$\n",
        "\n",
        "* Já a energia **potencial** é dada por:\n",
        "$$ V(y) = -mgy $$\n",
        "\n",
        "* Assim, a **Lagrangiana** é:\n",
        "$$\n",
        "\\mathcal{L}=\\frac{1}{2}m\\left(\\dot{x}^{2}+\\dot{y}^{2}\\right) + mgy\n",
        "$$\n",
        "\n",
        "* A vinculação é do tipo **holônoma**, tal que:\n",
        "\n",
        "$$ f(x,y) = x^2 + y^2 - L^2 = 0 $$\n",
        "\n",
        "\n",
        "* Definindo as **variáveis de configuração** do pêndulo:\n",
        "\n",
        "$$q_1 = x \\\\\n",
        "q_2 = y$$\n",
        "\n",
        "* Definindo alguns **parâmetros** para a obtenção dos coeficiente do problema:\n",
        "\n",
        "$$\\begin{align}n &= 2~\\text{(fixo)} \\rightarrow \\text{var. de configuração} \\\\\n",
        "m &= 1~(\\text{fixo}) \\rightarrow \\text{velocidades independentes}\\\\\n",
        "k &= n - m = 1~(\\text{fixo})\\\\\n",
        "l &= (1~\\text{até}~k) = (1,1)\\\\\n",
        "j &= (1~\\text{até}~m)= (1,1)\\\\\n",
        "\\nu &= (1~\\text{até}~k) = (1,1)\\end{align}$$\n",
        "\n",
        "* Obtendo-se os termos de vínculo $a_{lj}$:\n",
        "\n",
        "$$\\dot{q}_{m+l} - \\sum_{j=1}^{m} a_{lj} \\dot{q}_j = 0,~l=1,\\cdots,k$$\n",
        "\n",
        "$$\\dot{q}_{2} - a_{11}\\dot{q}_1 = 0 \\Rightarrow \\dot{y} - a_{11}\\dot{x} = 0 ~~\\therefore~{\\boxed{a_{11} = \\frac{\\dot{y}}{\\dot{x}} }}$$\n",
        "\n",
        "* Obtendo-se a **Lagrangiana reduzida**:\n",
        "\n",
        "A partir da equação de vínculo podemos obter as respectivas diferenciações:\n",
        "$$ f(x,y) = x^2 + y^2 - L^2 = 0 \\\\\n",
        "\\frac{d}{dt}f(x,y) = \\frac{d}{dt}(x^2 + y^2 - L^2) = 0 \\\\\n",
        "\\frac{d}{dt}f(x,y) = 2x\\dot{x} + 2y\\dot{y} = 0 \\Rightarrow \\dot{y} = -\\left(\\frac{x}{y}\\right)\\dot{x}$$\n",
        "\n",
        "Por fim, após isolar $\\dot{y}$, substituímos na Lagrangiana original obtendo a Lagrangiana reduzida:\n",
        "$$ \\bar{\\mathcal L} = \\frac{1}{2}m\\left\\{\\dot{x}^{2}+\\left[-\\left(\\frac{x}{y}\\right)\\dot{x}\\right]^{2}\\right\\} + mgy$$\n",
        "\n",
        "* Assim, podemos finalmente obter as **Equações de Voronec**, conforme segue:\n",
        "$$\n",
        "\\frac{d}{d t}\\left(\\frac{\\partial \\bar{\\mathcal L}}{\\partial \\dot{q}_{i}}\\right)-\\frac{\\partial \\bar{\\mathcal L}}{\\partial q_{i}}=\\sum_{\\nu=1}^{k} \\frac{\\partial \\bar{\\mathcal L}}{\\partial q_{m+\\nu}} a_{\\nu i}+ \\sum_{\\nu=1}^{k} \\sum_{j=1}^{m} \\frac{\\partial \\mathcal{L}}{\\partial \\dot{q}_{m+\\nu}} b_{i j}^{\\nu} \\dot{q}_{j}~,~~ i=1, \\ldots, m\n",
        "$$\n",
        "\n",
        "$$\n",
        "b_{ij}^{\\nu}=\\frac{\\partial a_{\\nu i}}{\\partial q_{j}}-\\frac{\\partial a_{\\nu j}}{\\partial q_{i}}+\\sum_{\\mu=1}^{k}\\left(\\frac{\\partial a_{\\nu i}}{\\partial q_{m+\\mu}} a_{\\mu j}-\\frac{\\partial a_{\\nu j}}{\\partial q_{m+\\mu}} a_{\\mu i}\\right){= 0\\text{ (holonomo)}}\n",
        "$$\n",
        "\n",
        "$$\n",
        "\\frac{d}{d t}\\left(\\frac{\\partial \\bar{\\mathcal L}}{\\partial \\dot{q}_{1}}\\right)-\\frac{\\partial \\bar{\\mathcal L}}{\\partial q_{1}}=\\frac{\\partial \\bar{\\mathcal L}}{\\partial q_{2}} a_{11}~,~~\\text{onde}~q_1 = x~\\text{e}~q_2 = y\n",
        "$$\n",
        "\n",
        "$$\n",
        "\\therefore~~\\boxed{\\frac{d}{d t}\\left(\\frac{\\partial \\bar{\\mathcal L}}{\\partial \\dot{x}}\\right)-\\frac{\\partial \\bar{\\mathcal L}}{\\partial x}=\\frac{\\partial \\bar{\\mathcal L}}{\\partial y} a_{11}}\n",
        "$$"
      ],
      "metadata": {
        "id": "0L3UOsFMHIAa"
      }
    },
    {
      "cell_type": "code",
      "source": [
        "# Definindo as variáveis do problema\n",
        "t = smp.Symbol(r't')\n",
        "L, m, g = smp.symbols('L, m, g', real=True) # Comprimento \"L\", Massa \"m\", Gravidade \"g\"\n",
        "varS = ['x', 'y', r'\\theta']\n",
        "\n",
        "# Deslocamentos\n",
        "x, y, theta = [smp.Function(varb)(t) for varb in varS]\n",
        "disps = [x,y,theta]\n",
        "\n",
        "# Velocidades\n",
        "xdot, ydot, thetadot = [smp.diff(varb,t) for varb in disps]\n",
        "vels = [xdot,ydot,thetadot]\n",
        "\n",
        "# Acelerações\n",
        "xddot, yddot, thetaddot = [smp.diff(varb,t) for varb in vels]"
      ],
      "metadata": {
        "id": "lgytGwTtKGZJ"
      },
      "execution_count": 28,
      "outputs": []
    },
    {
      "cell_type": "markdown",
      "source": [
        "Novamente a vinculação holônoma é apresentada:"
      ],
      "metadata": {
        "id": "u9Hu0_BaKT3v"
      }
    },
    {
      "cell_type": "code",
      "source": [
        "# Vínculo holônomo\n",
        "f1 = x**2 + y**2 - L**2\n",
        "f1_dot = smp.diff(f1,t)\n",
        "f1_ddot = smp.diff(f1_dot,t)\n",
        "f1_dot"
      ],
      "metadata": {
        "colab": {
          "base_uri": "https://localhost:8080/",
          "height": 52
        },
        "id": "OxJMV-yNKJqg",
        "outputId": "393900c9-e673-432e-8a6e-c9f109432078"
      },
      "execution_count": 29,
      "outputs": [
        {
          "output_type": "execute_result",
          "data": {
            "text/plain": [
              "2*x(t)*Derivative(x(t), t) + 2*y(t)*Derivative(y(t), t)"
            ],
            "text/latex": "$\\displaystyle 2 x{\\left(t \\right)} \\frac{d}{d t} x{\\left(t \\right)} + 2 y{\\left(t \\right)} \\frac{d}{d t} y{\\left(t \\right)}$"
          },
          "metadata": {},
          "execution_count": 29
        }
      ]
    },
    {
      "cell_type": "markdown",
      "source": [
        "Isolando-se $\\dot{y}$, obtemos:"
      ],
      "metadata": {
        "id": "-yoyo9lpKY_x"
      }
    },
    {
      "cell_type": "code",
      "source": [
        "ydot_ = smp.solve(f1_dot,ydot)[0]\n",
        "ydot_"
      ],
      "metadata": {
        "colab": {
          "base_uri": "https://localhost:8080/",
          "height": 60
        },
        "id": "L98Eevv9Kd3X",
        "outputId": "f6d87c6b-8626-4f7c-da0e-43a4eb4f3a24"
      },
      "execution_count": 30,
      "outputs": [
        {
          "output_type": "execute_result",
          "data": {
            "text/plain": [
              "-x(t)*Derivative(x(t), t)/y(t)"
            ],
            "text/latex": "$\\displaystyle - \\frac{x{\\left(t \\right)} \\frac{d}{d t} x{\\left(t \\right)}}{y{\\left(t \\right)}}$"
          },
          "metadata": {},
          "execution_count": 30
        }
      ]
    },
    {
      "cell_type": "markdown",
      "source": [
        "Este $\\dot{y}$ é então substituído na Lagrangiana original $\\mathcal{L}$ de modo a obtermos a Lagrangiana reduzida $\\bar{\\mathcal{L}}$:"
      ],
      "metadata": {
        "id": "6VSJeobpKj9x"
      }
    },
    {
      "cell_type": "code",
      "source": [
        "# Energia cinética\n",
        "T = (1/2)*m*(xdot**2 + ydot_**2)\n",
        "# Energia potencial\n",
        "V = - m*g*y\n",
        "# Lagrangiana reduzida\n",
        "L_bar = T - V\n",
        "L_bar"
      ],
      "metadata": {
        "colab": {
          "base_uri": "https://localhost:8080/",
          "height": 69
        },
        "id": "JqiVzimyK4Yn",
        "outputId": "78575518-1998-42d8-9e93-828bbad34d90"
      },
      "execution_count": 31,
      "outputs": [
        {
          "output_type": "execute_result",
          "data": {
            "text/plain": [
              "g*m*y(t) + 0.5*m*(x(t)**2*Derivative(x(t), t)**2/y(t)**2 + Derivative(x(t), t)**2)"
            ],
            "text/latex": "$\\displaystyle g m y{\\left(t \\right)} + 0.5 m \\left(\\frac{x^{2}{\\left(t \\right)} \\left(\\frac{d}{d t} x{\\left(t \\right)}\\right)^{2}}{y^{2}{\\left(t \\right)}} + \\left(\\frac{d}{d t} x{\\left(t \\right)}\\right)^{2}\\right)$"
          },
          "metadata": {},
          "execution_count": 31
        }
      ]
    },
    {
      "cell_type": "markdown",
      "source": [
        "Na sequência vamos obter os termos de vínculo $a_{\\nu i}$, que neste caso é simplesmente dado por $a_{11}$:"
      ],
      "metadata": {
        "id": "Zj3HaBjsK_VB"
      }
    },
    {
      "cell_type": "code",
      "source": [
        "# Termo de vínculo alj\n",
        "a11 = ydot_/xdot\n",
        "a11"
      ],
      "metadata": {
        "colab": {
          "base_uri": "https://localhost:8080/",
          "height": 57
        },
        "id": "VljM3tIkLLt3",
        "outputId": "5aba6890-65c2-416d-f398-664b1436b808"
      },
      "execution_count": 32,
      "outputs": [
        {
          "output_type": "execute_result",
          "data": {
            "text/plain": [
              "-x(t)/y(t)"
            ],
            "text/latex": "$\\displaystyle - \\frac{x{\\left(t \\right)}}{y{\\left(t \\right)}}$"
          },
          "metadata": {},
          "execution_count": 32
        }
      ]
    },
    {
      "cell_type": "markdown",
      "source": [
        "Realizando as devidas diferenciações e operações algébricas obtemos a Equação de Voronec para o pêndulo simples."
      ],
      "metadata": {
        "id": "qsZ-tmyMLkFo"
      }
    },
    {
      "cell_type": "code",
      "source": [
        "# Voronec\n",
        "voronec = smp.diff(smp.diff(L_bar,xdot),t) - smp.diff(L_bar,x) - smp.diff(L_bar,y)*a11\n",
        "voronec = smp.simplify(voronec)\n",
        "voronec"
      ],
      "metadata": {
        "colab": {
          "base_uri": "https://localhost:8080/",
          "height": 70
        },
        "id": "WdMUdLCyLlMZ",
        "outputId": "6930606b-8705-46a8-c47d-8b37a346e9eb"
      },
      "execution_count": 33,
      "outputs": [
        {
          "output_type": "execute_result",
          "data": {
            "text/plain": [
              "1.0*m*(1.0*g*x(t)*y(t)**3 - 1.0*x(t)**3*Derivative(x(t), t)**2 + 1.0*x(t)**2*y(t)**2*Derivative(x(t), (t, 2)) - 2.0*x(t)**2*y(t)*Derivative(x(t), t)*Derivative(y(t), t) + 1.0*x(t)*y(t)**2*Derivative(x(t), t)**2 + 1.0*y(t)**4*Derivative(x(t), (t, 2)))/y(t)**4"
            ],
            "text/latex": "$\\displaystyle \\frac{1.0 m \\left(1.0 g x{\\left(t \\right)} y^{3}{\\left(t \\right)} - 1.0 x^{3}{\\left(t \\right)} \\left(\\frac{d}{d t} x{\\left(t \\right)}\\right)^{2} + 1.0 x^{2}{\\left(t \\right)} y^{2}{\\left(t \\right)} \\frac{d^{2}}{d t^{2}} x{\\left(t \\right)} - 2.0 x^{2}{\\left(t \\right)} y{\\left(t \\right)} \\frac{d}{d t} x{\\left(t \\right)} \\frac{d}{d t} y{\\left(t \\right)} + 1.0 x{\\left(t \\right)} y^{2}{\\left(t \\right)} \\left(\\frac{d}{d t} x{\\left(t \\right)}\\right)^{2} + 1.0 y^{4}{\\left(t \\right)} \\frac{d^{2}}{d t^{2}} x{\\left(t \\right)}\\right)}{y^{4}{\\left(t \\right)}}$"
          },
          "metadata": {},
          "execution_count": 33
        }
      ]
    },
    {
      "cell_type": "markdown",
      "source": [
        "Ao se isolar $\\ddot{x}$ na equação acima, obtemos:"
      ],
      "metadata": {
        "id": "WiCe1Ez9LvRg"
      }
    },
    {
      "cell_type": "code",
      "source": [
        "xddot_ = smp.simplify(smp.solve(voronec,xddot)[0])\n",
        "xddot_"
      ],
      "metadata": {
        "colab": {
          "base_uri": "https://localhost:8080/",
          "height": 70
        },
        "id": "Ql9DXd3UL0f2",
        "outputId": "f3f5e48f-3f6b-458b-b7cd-a8914d74831a"
      },
      "execution_count": 34,
      "outputs": [
        {
          "output_type": "execute_result",
          "data": {
            "text/plain": [
              "-(g*y(t)**3 - x(t)**2*Derivative(x(t), t)**2 - 2.0*x(t)*y(t)*Derivative(x(t), t)*Derivative(y(t), t) + y(t)**2*Derivative(x(t), t)**2)*x(t)/((x(t)**2 + y(t)**2)*y(t)**2)"
            ],
            "text/latex": "$\\displaystyle - \\frac{\\left(g y^{3}{\\left(t \\right)} - x^{2}{\\left(t \\right)} \\left(\\frac{d}{d t} x{\\left(t \\right)}\\right)^{2} - 2.0 x{\\left(t \\right)} y{\\left(t \\right)} \\frac{d}{d t} x{\\left(t \\right)} \\frac{d}{d t} y{\\left(t \\right)} + y^{2}{\\left(t \\right)} \\left(\\frac{d}{d t} x{\\left(t \\right)}\\right)^{2}\\right) x{\\left(t \\right)}}{\\left(x^{2}{\\left(t \\right)} + y^{2}{\\left(t \\right)}\\right) y^{2}{\\left(t \\right)}}$"
          },
          "metadata": {},
          "execution_count": 34
        }
      ]
    },
    {
      "cell_type": "markdown",
      "source": [
        "Desta forma podemos obter uma integração numérica do pêndulo e visualizar a sua trajetória através de uma formulação diferente que são é a Equação de Voronec."
      ],
      "metadata": {
        "id": "yie3HTzmL3nI"
      }
    },
    {
      "cell_type": "code",
      "source": [
        "# Parâmetros do sistema\n",
        "g = 9.81    # aceleração da gravidade [m/s²]\n",
        "L = 1.0     # comprimento do pêndulo [m]\n",
        "m = 1.0     # massa do pêndulo [kg]\n",
        "\n",
        "# Intervalo de tempo para integração\n",
        "t_start = 0.0\n",
        "t_end = 2*np.pi*np.sqrt(L/g) # plotando um período\n",
        "t_step = 0.001\n",
        "t_span = np.arange(t_start, t_end, t_step)\n",
        "\n",
        "# Ângulo inicial = 60°\n",
        "theta0 = 60/180*np.pi\n",
        "\n",
        "## VORONEC --------------------------------------------------------\n",
        "def pendulum_vor(z, t):\n",
        "    x, y, dx = z\n",
        "    dy = -x/y*dx\n",
        "    ddx = - (x*(g*y**3 - x**2*dx**2 - 2*x*y*dx*dy + y**2*dx**2))/((x**2 + y**2)*y**2)\n",
        "    return [dx,dy,ddx]\n",
        "\n",
        "# Condições iniciais\n",
        "z0 = [L*np.sin(theta0), L*np.cos(theta0), 0.0]\n",
        "\n",
        "# Resolvendo o sistema de equações diferenciais\n",
        "solution = odeint(pendulum_vor, z0, t_span)\n",
        "\n",
        "# Obtendo as soluções\n",
        "x_sol = solution[:, 0]\n",
        "y_sol = np.sqrt(L**2 - x_sol**2)\n",
        "\n",
        "## TRADICIONAL --------------------------------------------------------\n",
        "def pendulum_an(z, t):\n",
        "    z1 = z[0]\n",
        "    z2 = z[1]\n",
        "    dz1_dt = z2\n",
        "    dz2_dt = -g/L*np.sin(z1)\n",
        "    return [dz1_dt, dz2_dt]\n",
        "\n",
        "# Condições iniciais\n",
        "z0 = [theta0, 0.0]  # z1(0), z2(0)\n",
        "\n",
        "# Resolvendo o sistema de equações diferenciais\n",
        "solution_an = odeint(pendulum_an, z0, t_span)\n",
        "\n",
        "# Obtendo as soluções para z1, z2\n",
        "x_sol_an = L*np.sin(solution_an[:, 0])\n",
        "y_sol_an = L*np.cos(solution_an[:, 0])\n",
        "\n",
        "## PLOTANDO --------------------------------------------------------\n",
        "# Plotando as soluções\n",
        "plt.figure(figsize=(10, 8))\n",
        "plt.plot(x_sol, -y_sol, linestyle='-', color='lime', linewidth=4, label=r'$\\mathcal{V}$')\n",
        "plt.plot(x_sol_an, -y_sol_an, linestyle=':', color='black', linewidth=2, label=r'$\\theta$')\n",
        "plt.xlabel('$x$')\n",
        "plt.ylabel('$y$')\n",
        "plt.title('Pêndulo - Equações de Voronec')\n",
        "plt.legend()\n",
        "plt.grid(True)\n",
        "plt.xlim(-1.0,1.0)\n",
        "plt.ylim(-1.0,0.0)\n",
        "plt.axis()\n",
        "ax = plt.gca()\n",
        "ax.set_aspect('equal', adjustable='box')\n",
        "plt.show()"
      ],
      "metadata": {
        "colab": {
          "base_uri": "https://localhost:8080/",
          "height": 513
        },
        "id": "MRDtroXAMIvn",
        "outputId": "4c0ac2ff-d60d-4524-f9a4-63750bcf3228"
      },
      "execution_count": 35,
      "outputs": [
        {
          "output_type": "display_data",
          "data": {
            "text/plain": [
              "<Figure size 1000x800 with 1 Axes>"
            ],
            "image/png": "[encoded data removed]"
          },
          "metadata": {}
        }
      ]
    },
    {
      "cell_type": "markdown",
      "source": [
        "# **2. Hamiltonianas**\n",
        "\n",
        "Neste tópico iremos apresentar o processo de obtenção das Hamiltonianas de dois sistemas diferentes. O principal objetivo é mostrar quando a Hamiltoniana se conserva e quando não."
      ],
      "metadata": {
        "id": "qzTqCLeuCu9E"
      }
    },
    {
      "cell_type": "markdown",
      "source": [
        "## **2.1. Pêndulo simples**"
      ],
      "metadata": {
        "id": "p5wnmLRHC3oE"
      }
    },
    {
      "cell_type": "markdown",
      "source": [
        "Sabe-se que as energias cinética e potencial desse sistema são dadas por:\n",
        "\n",
        "* **Cinética:**\n",
        "\n",
        "$$ T(\\dot{\\theta}) = \\frac{1}{2} m {v_m}^2 = \\frac{1}{2} m \\dot{\\theta}^2 L^2 $$\n",
        "em que $v_m$ é a velocidade tangencial da massa $m$\n",
        "\n",
        "* **Potencial:**\n",
        "\n",
        "$$ V(\\theta) = - m g h = -mgL\\cos(\\theta) $$\n",
        "\n",
        "Calculando-se a Lagrangina $\\mathcal{L}$, obtém-se:\n",
        "\n",
        "$$ \\mathcal{L}(\\theta,\\dot{\\theta}) = T - V = \\frac{1}{2} m \\dot{\\theta}^2 L^2 + mgL\\cos(\\theta) $$\n"
      ],
      "metadata": {
        "id": "AIZt8hj6Me-4"
      }
    },
    {
      "cell_type": "markdown",
      "source": [
        "Aplicando-se a Transformada de Legendre na Lagrangiana:\n",
        "\n",
        "$$ p_\\theta = \\frac{\\partial \\mathcal{L}}{\\partial \\dot{\\theta}} = m \\dot{\\theta}L^2 $$\n",
        "\n",
        "$$ \\mathcal{H} = p_\\theta \\dot{q} - \\mathcal{L} = m\\dot{\\theta}^2L^2 - \\left ( \\frac{1}{2}m\\dot{\\theta}^2L^2 + mgL\\cos(\\theta) \\right ) $$"
      ],
      "metadata": {
        "id": "SKMHZMcyQrBA"
      }
    },
    {
      "cell_type": "markdown",
      "source": [
        "\n",
        "\n",
        "Portanto, a Hamiltoniana obtida é:\n",
        "\n",
        "$$ \\mathcal{H} = \\frac{1}{2} m \\dot{\\theta}^2 L^2 - mgL\\cos(\\theta) $$\n",
        "\n",
        "que é o próprio resultado da soma das energias cinética e potencial:\n",
        "\n",
        "$$ \\mathcal{H} = T + V $$"
      ],
      "metadata": {
        "id": "_M0punTLQiDZ"
      }
    },
    {
      "cell_type": "markdown",
      "source": [
        "As Equações de Hamilton são descritas por:\n",
        "\n",
        "$$ \\dot{q}_i = \\frac{\\partial \\mathcal{H}}{\\partial p_i}  ; \\hspace{10pt} \\dot{p}_i = - \\frac{\\partial \\mathcal{H}}{\\partial q_i} $$\n",
        "\n",
        "Em função da coordenada generalizada $\\theta$, tem-se:\n",
        "\n",
        "$$ \\dot{\\theta} = \\frac{\\partial \\mathcal{H}}{\\partial p_\\theta}  ; \\hspace{10pt} \\dot{p}_\\theta = - \\frac{\\partial \\mathcal{H}}{\\partial \\theta} $$"
      ],
      "metadata": {
        "id": "Ig027BBdQ7Df"
      }
    },
    {
      "cell_type": "markdown",
      "source": [
        "\n",
        "\n",
        "Voltando na Hamiltoniana do problema:\n",
        "\n",
        "$$ \\boxed{\\dot{\\theta} = \\frac{p_\\theta}{mL^2} ; \\hspace{10pt} \\dot{p}_\\theta = -mgL\\sin(\\theta) } $$\n",
        "\n",
        "Derivando-se $ \\hspace{3pt} \\dot{\\theta} = \\frac{p_\\theta}{mL^2} \\hspace{3pt}$ em relação ao tempo:\n",
        "\n",
        "$$ \\dot{p}_\\theta = mL^2\\ddot{\\theta} $$\n",
        "\n",
        "Voltando na expressão de $ \\hspace{3pt} \\dot{p}_\\theta = -mgL\\sin(\\theta)$, chega-se na equação do pêndulo simples:\n",
        "\n",
        "$$ \\ddot{\\theta} + \\frac{g}{L}\\sin{\\theta} = 0 $$"
      ],
      "metadata": {
        "id": "wOejhZ0lPWhy"
      }
    },
    {
      "cell_type": "code",
      "source": [
        "# Definindo as variáveis do problema\n",
        "L = 1.0                     # comprimento do fio [m]\n",
        "g = 9.81                    # aceleração gravitacional [m/s^2]\n",
        "m = 1.0                     # massa da esfera [kg]\n",
        "N = 1000                    # numero de amostras para simular\n",
        "t = np.linspace(0,20,N)     # vetor tempo\n",
        "\n",
        "def pendulo(z,t,L,m,g):\n",
        "    theta = z[0]\n",
        "    p = z[1]\n",
        "    dot_theta = p/(m*(L**2))\n",
        "    dot_p = -m*g*L*np.sin(theta)\n",
        "    dot_z = [dot_theta,dot_p]\n",
        "    return dot_z\n",
        "\n",
        "theta0 = np.pi/3            # condição inicial theta\n",
        "p0 = 0                      # condição inicial para p\n",
        "z0 = [theta0,p0]\n",
        "z = odeint(pendulo,z0,t,args=(L,m,g))\n",
        "\n",
        "p = z[:,1]\n",
        "theta = z[:,0]\n",
        "\n",
        "# Energia cinética\n",
        "T = 0.5*m*((p/(m*L**2))**2)*L**2\n",
        "# Energia potencial\n",
        "V = -m*g*L*np.cos(theta)\n",
        "# Hamiltoniana\n",
        "H = T+V\n",
        "\n",
        "plt.figure(figsize=(10,5))\n",
        "plt.plot(t,T,color = 'b',linewidth=1.5,label='$T$')\n",
        "plt.plot(t,V,color = 'r',linewidth=1.5,label='$V$')\n",
        "plt.plot(t,H,color = 'k',linewidth=2,label='$\\mathcal{H}$')\n",
        "plt.ylabel(\"$\\mathcal{E}$\")\n",
        "plt.xlabel(\"Tempo [s]\")\n",
        "plt.grid(True)\n",
        "plt.axis()\n",
        "plt.legend()\n",
        "plt.show()"
      ],
      "metadata": {
        "colab": {
          "base_uri": "https://localhost:8080/",
          "height": 484
        },
        "id": "qCAGJNE-MhoP",
        "outputId": "910f72cb-cc4d-4dc4-fc90-c378956a032f"
      },
      "execution_count": 36,
      "outputs": [
        {
          "output_type": "display_data",
          "data": {
            "text/plain": [
              "<Figure size 1000x500 with 1 Axes>"
            ],
            "image/png": "[encoded data removed]"
          },
          "metadata": {}
        }
      ]
    },
    {
      "cell_type": "markdown",
      "source": [
        "## **2.2. Aro**"
      ],
      "metadata": {
        "id": "NRUQFE2lC7qV"
      }
    },
    {
      "cell_type": "markdown",
      "source": [
        "![aro1.png](data:image/png;base64,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)"
      ],
      "metadata": {
        "id": "SCb057L5MyFn"
      }
    },
    {
      "cell_type": "markdown",
      "source": [
        "Partindo-se do Trabalho 2, no qual encontramos a velocidade do ponto B como sendo:\n",
        "$$\\begin{matrix}{\\vec{v}_B} = \\begin{Bmatrix} r\\dot{\\theta}\\cos(\\theta) \\\\ r\\dot{\\theta}\\sin(\\theta) \\\\ -\\omega r \\sin(\\theta) \\end{Bmatrix}\\end{matrix}$$\n",
        "vetor esse cuja norma nos fornece:\n",
        "$$|{\\vec{v}_B}| = v_B = \\sqrt{r^2 \\left(\\dot{\\theta}^2+\\omega^2\\sin^2(\\theta)\\right)}$$\n",
        "\n",
        "Sabe-se que as energias cinética e potencial desse sistema são dadas por:\n",
        "\n",
        "* **Cinética:**\n",
        "\n",
        "$$ T = \\frac{1}{2} m {|\\vec{v}_B|}^2 = \\frac{1}{2}mr^2 \\left (\\dot{\\theta}^2 + \\omega^2 \\sin^2(\\theta) \\right ) $$\n",
        "\n",
        "* **Potencial:**\n",
        "    * A energia potencial nesse caso é a mesma para o caso anterior, isto é, de um pêndulo simples:\n",
        "\n",
        "$$ V = - m g h = -mgr\\cos(\\theta) $$\n",
        "\n",
        "Calculando-se a Lagrangina $\\mathcal{L}$, obtém-se:\n",
        "\n",
        "$$ \\mathcal{L} = T - V = \\frac{1}{2} m r^2 \\left (\\dot{\\theta}^2 + \\omega^2 \\sin^2(\\theta) \\right ) + mgr\\cos(\\theta) $$\n",
        "\n",
        "Aplicando-se a Transformada de Legendre na Lagrangiana:\n",
        "\n",
        "$$ p_\\theta = \\frac{\\partial \\mathcal{L}}{\\partial \\dot{\\theta}} = m \\dot{\\theta}r^2 $$\n",
        "\n",
        "$$ \\mathcal{H} = p_\\theta \\dot{q} - \\mathcal{L} = m\\dot{\\theta}^2r^2 - \\left[\\frac{1}{2} m r^2 \\left (\\dot{\\theta}^2 + \\omega^2 \\sin^2(\\theta) \\right ) + mgr\\cos(\\theta) \\right] $$\n",
        "\n",
        "Portanto, a Hamiltoniana obtida é:\n",
        "\n",
        "$$ \\mathcal{H} = \\frac{1}{2} mr^2 \\left (\\dot{\\theta}^2 - \\omega^2 \\sin^2(\\theta) \\right) - mgr\\cos(\\theta) $$\n",
        "\n",
        "Comparando o resultado obtido acima com a soma das energias cinética e potencial, nota-se que ambos são diferentes:\n",
        "\n",
        "$$ T + V = \\frac{1}{2}mr^2 \\left (\\dot{\\theta}^2 + \\omega^2 \\sin^2(\\theta) \\right ) - mgr\\cos(\\theta)$$\n",
        "\n",
        "$$ \\therefore \\boxed{\\mathcal{H} \\neq T + V} $$\n"
      ],
      "metadata": {
        "id": "iUgCr4WtMznP"
      }
    }
  ]
}